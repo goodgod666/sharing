{
 "cells": [
  {
   "cell_type": "markdown",
   "metadata": {},
   "source": [
    "## Analyzing borrowers’ risk of defaulting\n",
    "\n",
    "Your project is to prepare a report for a bank’s loan division. You’ll need to find out if a customer’s marital status and number of children has an impact on whether they will default on a loan. The bank already has some data on customers’ credit worthiness.\n",
    "\n",
    "Your report will be considered when building a **credit scoring** of a potential customer. A ** credit scoring ** is used to evaluate the ability of a potential borrower to repay their loan."
   ]
  },
  {
   "cell_type": "markdown",
   "metadata": {},
   "source": [
    "### Table of Contents\n",
    "* [Step 1. Open the data file and have a look at the general information](#chapter1)\n",
    "* [Step 2. Data preprocessing](#chapter2)\n",
    "* [Step 3. Answer these questions](#chapter3)\n",
    "* [Step 4. General conclusion](#chapter4)\n"
   ]
  },
  {
   "cell_type": "markdown",
   "metadata": {},
   "source": [
    "### Step 1. Open the data file and have a look at the general information. \n",
    "<a class=\"anchor\" id=\"chapter1\"></a>"
   ]
  },
  {
   "cell_type": "code",
   "execution_count": 1,
   "metadata": {},
   "outputs": [
    {
     "data": {
      "text/plain": [
       "(                  education family_status gender income_type           purpose\n",
       " count                 21525         21525  21525       21525             21525\n",
       " unique                   15             5      3           8                38\n",
       " top     secondary education       married      F    employee  wedding ceremony\n",
       " freq                  13750         12380  14236       11119               797,\n",
       "            children  days_employed     dob_years  education_id  \\\n",
       " count  21525.000000   19351.000000  21525.000000  21525.000000   \n",
       " mean       0.538908   63046.497661     43.293380      0.817236   \n",
       " std        1.381587  140827.311974     12.574584      0.548138   \n",
       " min       -1.000000  -18388.949901      0.000000      0.000000   \n",
       " 25%        0.000000   -2747.423625     33.000000      1.000000   \n",
       " 50%        0.000000   -1203.369529     42.000000      1.000000   \n",
       " 75%        1.000000    -291.095954     53.000000      1.000000   \n",
       " max       20.000000  401755.400475     75.000000      4.000000   \n",
       " \n",
       "        family_status_id          debt   total_income  \n",
       " count      21525.000000  21525.000000   19351.000000  \n",
       " mean           0.972544      0.080883   26787.568355  \n",
       " std            1.420324      0.272661   16475.450632  \n",
       " min            0.000000      0.000000    3306.762000  \n",
       " 25%            0.000000      0.000000   16488.504500  \n",
       " 50%            0.000000      0.000000   23202.870000  \n",
       " 75%            1.000000      0.000000   32549.611000  \n",
       " max            4.000000      1.000000  362496.645000  )"
      ]
     },
     "execution_count": 1,
     "metadata": {},
     "output_type": "execute_result"
    }
   ],
   "source": [
    "import pandas as pd\n",
    "import random\n",
    "from math import trunc\n",
    "\n",
    "import warnings\n",
    "\n",
    "warnings.filterwarnings (\"ignore\")\n",
    "\n",
    "loanTable = pd.read_csv('/Users/yoni/Pictures/jupyter/Data_prossesing_1st/credit_scoring_eng.csv')\n",
    "loanTable.head(15)\n",
    "#loanTable.info()\n",
    "#loanTable.describe()\n",
    "loanTable.head(20)\n",
    "\n",
    "loanTable.describe(include='object'),loanTable.describe()"
   ]
  },
  {
   "cell_type": "markdown",
   "metadata": {},
   "source": [
    "I see in the table a lot of information, some of it is confusing, like the \"days_employed\" column. my task is to understand if a persons merital status and number of children has an impact on whether they will default on a loan. and at first glance a lot of the info in this chart is not relavent to my task. i shall take a deeper look in this table and see."
   ]
  },
  {
   "cell_type": "markdown",
   "metadata": {},
   "source": []
  },
  {
   "cell_type": "markdown",
   "metadata": {},
   "source": [
    "### Step 2. Data preprocessing\n",
    "<a class=\"anchor\" id=\"chapter2\"></a>"
   ]
  },
  {
   "cell_type": "markdown",
   "metadata": {},
   "source": [
    "### Processing missing values"
   ]
  },
  {
   "cell_type": "markdown",
   "metadata": {},
   "source": [
    "i will look at the columns in the table and look for missing values\n"
   ]
  },
  {
   "cell_type": "code",
   "execution_count": 2,
   "metadata": {},
   "outputs": [
    {
     "data": {
      "text/plain": [
       "married              12380\n",
       "civil partnership     4177\n",
       "unmarried             2813\n",
       "divorced              1195\n",
       "widow / widower        960\n",
       "Name: family_status, dtype: int64"
      ]
     },
     "execution_count": 2,
     "metadata": {},
     "output_type": "execute_result"
    }
   ],
   "source": [
    "family_status_unique = loanTable['family_status'].unique() #gives out unique family satus\n",
    "family_status_valueCounts = loanTable['family_status'].value_counts() # counts family status values\n",
    "family_status_valueCounts"
   ]
  },
  {
   "cell_type": "markdown",
   "metadata": {},
   "source": [
    "the family status is devided in to 5 catagories. this is good becouse it can give me more resolution and can paint a bigger picture, but later i will also need to change the data to two main caragories: married, not married. so i can try and answer the basic question."
   ]
  },
  {
   "cell_type": "code",
   "execution_count": 3,
   "metadata": {},
   "outputs": [
    {
     "data": {
      "text/plain": [
       " 0     14149\n",
       " 1      4818\n",
       " 2      2055\n",
       " 3       330\n",
       " 20       76\n",
       "-1        47\n",
       " 4        41\n",
       " 5         9\n",
       "Name: children, dtype: int64"
      ]
     },
     "execution_count": 3,
     "metadata": {},
     "output_type": "execute_result"
    }
   ],
   "source": [
    "children_unique = loanTable['children'].unique() # gives out number of children values\n",
    "family_status_valueCounts = loanTable['family_status'].value_counts() # counts family status values\n",
    "loanTable.describe()\n",
    "children_valueCounts = loanTable['children'].value_counts()\n",
    "debt_valueCounts = loanTable['debt'].value_counts()\n",
    "\n",
    "children_valueCounts"
   ]
  },
  {
   "cell_type": "markdown",
   "metadata": {},
   "source": [
    "the number of children seems to have 47 cases of \"-1\", that can be a mistake in typing, there are 76 cases of 20 children that i can assume is a mistake as well maybe a typing mistake, all and all in this column there are 123 wierd values that I'll have to deal with. becouse it is a low % of the over all data and i cant be sure that this is a typo like -1 meaning 1 or 20 meaning 2."
   ]
  },
  {
   "cell_type": "code",
   "execution_count": 4,
   "metadata": {},
   "outputs": [
    {
     "data": {
      "text/plain": [
       "'The median number of children is: 0.0, and the mean number of children is: 0.5389082462253194'"
      ]
     },
     "execution_count": 4,
     "metadata": {},
     "output_type": "execute_result"
    }
   ],
   "source": [
    "\n",
    "\n",
    "\n",
    "children_median = loanTable['children'].median()\n",
    "children_mean = loanTable['children'].mean()\n",
    "\n",
    "'The median number of children is: {}, and the mean number of children is: {}'.format(children_median,children_mean) "
   ]
  },
  {
   "cell_type": "markdown",
   "metadata": {},
   "source": []
  },
  {
   "cell_type": "markdown",
   "metadata": {},
   "source": [
    "\n",
    "i will replace these numbers with the median or the mean value, the mean value is not a whole number so i will use the median,it is a whole number, and they are close ."
   ]
  },
  {
   "cell_type": "code",
   "execution_count": 5,
   "metadata": {
    "scrolled": true
   },
   "outputs": [
    {
     "data": {
      "text/plain": [
       "0.0    14272\n",
       "1.0     4818\n",
       "2.0     2055\n",
       "3.0      330\n",
       "4.0       41\n",
       "5.0        9\n",
       "Name: children, dtype: int64"
      ]
     },
     "execution_count": 5,
     "metadata": {},
     "output_type": "execute_result"
    }
   ],
   "source": [
    "loanTable['children'].replace({-1:children_median,20:children_median},inplace=True) #replacing wierd values with the median of the column\n",
    "children_valueCounts = loanTable['children'].value_counts()\n",
    "children_valueCounts"
   ]
  },
  {
   "cell_type": "markdown",
   "metadata": {},
   "source": [
    "the \"family_status\" column seems to have no missing values.\n",
    "The two columns i have nulls are \"days_employed\" and \"total_income\" and both have 2174 and they are the same rows that i put in a seperate dataframe called \"loanTableNan\"."
   ]
  },
  {
   "cell_type": "code",
   "execution_count": 15,
   "metadata": {},
   "outputs": [
    {
     "data": {
      "text/html": [
       "<div>\n",
       "<style scoped>\n",
       "    .dataframe tbody tr th:only-of-type {\n",
       "        vertical-align: middle;\n",
       "    }\n",
       "\n",
       "    .dataframe tbody tr th {\n",
       "        vertical-align: top;\n",
       "    }\n",
       "\n",
       "    .dataframe thead th {\n",
       "        text-align: right;\n",
       "    }\n",
       "</style>\n",
       "<table border=\"1\" class=\"dataframe\">\n",
       "  <thead>\n",
       "    <tr style=\"text-align: right;\">\n",
       "      <th></th>\n",
       "      <th>children</th>\n",
       "      <th>days_employed</th>\n",
       "      <th>dob_years</th>\n",
       "      <th>education</th>\n",
       "      <th>education_id</th>\n",
       "      <th>family_status</th>\n",
       "      <th>family_status_id</th>\n",
       "      <th>gender</th>\n",
       "      <th>income_type</th>\n",
       "      <th>debt</th>\n",
       "      <th>total_income</th>\n",
       "      <th>purpose</th>\n",
       "      <th>education_lowercase</th>\n",
       "      <th>purpose_catagory</th>\n",
       "    </tr>\n",
       "  </thead>\n",
       "  <tbody>\n",
       "    <tr>\n",
       "      <th>0</th>\n",
       "      <td>0.0</td>\n",
       "      <td>NaN</td>\n",
       "      <td>65</td>\n",
       "      <td>secondary education</td>\n",
       "      <td>1</td>\n",
       "      <td>civil partnership</td>\n",
       "      <td>1</td>\n",
       "      <td>M</td>\n",
       "      <td>retiree</td>\n",
       "      <td>0</td>\n",
       "      <td>NaN</td>\n",
       "      <td>to have a wedding</td>\n",
       "      <td>secondary education</td>\n",
       "      <td>wedding</td>\n",
       "    </tr>\n",
       "    <tr>\n",
       "      <th>1</th>\n",
       "      <td>0.0</td>\n",
       "      <td>NaN</td>\n",
       "      <td>41</td>\n",
       "      <td>secondary education</td>\n",
       "      <td>1</td>\n",
       "      <td>married</td>\n",
       "      <td>0</td>\n",
       "      <td>M</td>\n",
       "      <td>civil servant</td>\n",
       "      <td>0</td>\n",
       "      <td>NaN</td>\n",
       "      <td>education</td>\n",
       "      <td>secondary education</td>\n",
       "      <td>education</td>\n",
       "    </tr>\n",
       "    <tr>\n",
       "      <th>2</th>\n",
       "      <td>0.0</td>\n",
       "      <td>NaN</td>\n",
       "      <td>63</td>\n",
       "      <td>secondary education</td>\n",
       "      <td>1</td>\n",
       "      <td>unmarried</td>\n",
       "      <td>4</td>\n",
       "      <td>F</td>\n",
       "      <td>retiree</td>\n",
       "      <td>0</td>\n",
       "      <td>NaN</td>\n",
       "      <td>building a real estate</td>\n",
       "      <td>secondary education</td>\n",
       "      <td>real astate</td>\n",
       "    </tr>\n",
       "    <tr>\n",
       "      <th>3</th>\n",
       "      <td>0.0</td>\n",
       "      <td>NaN</td>\n",
       "      <td>50</td>\n",
       "      <td>secondary education</td>\n",
       "      <td>1</td>\n",
       "      <td>married</td>\n",
       "      <td>0</td>\n",
       "      <td>F</td>\n",
       "      <td>civil servant</td>\n",
       "      <td>0</td>\n",
       "      <td>NaN</td>\n",
       "      <td>second-hand car purchase</td>\n",
       "      <td>secondary education</td>\n",
       "      <td>car</td>\n",
       "    </tr>\n",
       "    <tr>\n",
       "      <th>4</th>\n",
       "      <td>0.0</td>\n",
       "      <td>NaN</td>\n",
       "      <td>54</td>\n",
       "      <td>secondary education</td>\n",
       "      <td>1</td>\n",
       "      <td>civil partnership</td>\n",
       "      <td>1</td>\n",
       "      <td>F</td>\n",
       "      <td>retiree</td>\n",
       "      <td>1</td>\n",
       "      <td>NaN</td>\n",
       "      <td>to have a wedding</td>\n",
       "      <td>secondary education</td>\n",
       "      <td>wedding</td>\n",
       "    </tr>\n",
       "  </tbody>\n",
       "</table>\n",
       "</div>"
      ],
      "text/plain": [
       "   children  days_employed  dob_years            education  education_id  \\\n",
       "0       0.0            NaN         65  secondary education             1   \n",
       "1       0.0            NaN         41  secondary education             1   \n",
       "2       0.0            NaN         63  secondary education             1   \n",
       "3       0.0            NaN         50  secondary education             1   \n",
       "4       0.0            NaN         54  secondary education             1   \n",
       "\n",
       "       family_status  family_status_id gender    income_type  debt  \\\n",
       "0  civil partnership                 1      M        retiree     0   \n",
       "1            married                 0      M  civil servant     0   \n",
       "2          unmarried                 4      F        retiree     0   \n",
       "3            married                 0      F  civil servant     0   \n",
       "4  civil partnership                 1      F        retiree     1   \n",
       "\n",
       "   total_income                   purpose  education_lowercase  \\\n",
       "0           NaN         to have a wedding  secondary education   \n",
       "1           NaN                 education  secondary education   \n",
       "2           NaN    building a real estate  secondary education   \n",
       "3           NaN  second-hand car purchase  secondary education   \n",
       "4           NaN         to have a wedding  secondary education   \n",
       "\n",
       "  purpose_catagory  \n",
       "0          wedding  \n",
       "1        education  \n",
       "2      real astate  \n",
       "3              car  \n",
       "4          wedding  "
      ]
     },
     "execution_count": 15,
     "metadata": {},
     "output_type": "execute_result"
    }
   ],
   "source": [
    "loanTable.isnull().sum()\n",
    "loanNan = loanTable.isnull()\n",
    "loanNanRow = loanNan.any(axis=1)\n",
    "loanTableNan = loanTable[loanNanRow]\n",
    "loanTableNan.reset_index(inplace=True,drop=True)\n",
    "\n",
    "\n",
    "loanTableNan.head()"
   ]
  },
  {
   "cell_type": "markdown",
   "metadata": {},
   "source": []
  },
  {
   "cell_type": "code",
   "execution_count": 7,
   "metadata": {},
   "outputs": [
    {
     "data": {
      "text/plain": [
       "F      14236\n",
       "M       7288\n",
       "XNA        1\n",
       "Name: gender, dtype: int64"
      ]
     },
     "execution_count": 7,
     "metadata": {},
     "output_type": "execute_result"
    }
   ],
   "source": [
    "loanTable['gender'].value_counts()"
   ]
  },
  {
   "cell_type": "markdown",
   "metadata": {},
   "source": [
    "The gender column has one 'XNA' value that is probably some sort of NaN that is not interfer with our task.\n",
    "ill change the 'Xna' in the gender column choosing a random value with the same probability as we have in the column.\n"
   ]
  },
  {
   "cell_type": "code",
   "execution_count": 8,
   "metadata": {},
   "outputs": [
    {
     "data": {
      "text/plain": [
       "F    14237\n",
       "M     7288\n",
       "Name: gender, dtype: int64"
      ]
     },
     "execution_count": 8,
     "metadata": {},
     "output_type": "execute_result"
    }
   ],
   "source": [
    "\n",
    "\n",
    "\n",
    "'''i will change the XNA in the gender column to either M or F at random with the same \n",
    "distribution chances as in the table'''\n",
    "\n",
    "    \n",
    "gender_value_sum = loanTable['gender'].value_counts().sum() # total number items in the gender column\n",
    "male_number = loanTable[loanTable['gender']== 'M']['gender'].count() #calculates the number of 'M' in the column\n",
    "female_number = loanTable[loanTable['gender']== 'F']['gender'].count() #calculates the number of 'F' in the column\n",
    "\n",
    "randomNumber= random.randint(1,gender_value_sum) #genarates a random number between 1 and the total number items in the gender column\n",
    "male_distribution = gender_value_sum - male_number\n",
    "if randomNumber >= male_distribution:   \n",
    "    loanTable.loc[loanTable['gender']=='XNA','gender']='M'  # assigns 'M' if randomNumber is in the distribution of the number of males\n",
    "else:\n",
    "     loanTable.loc[loanTable['gender']=='XNA','gender']='F' # assigns 'F' if randomNumber is in the distribution of the number of males\n",
    "        \n",
    "\n",
    "loanTable['gender'].value_counts()\n",
    "\n"
   ]
  },
  {
   "cell_type": "markdown",
   "metadata": {},
   "source": []
  },
  {
   "cell_type": "markdown",
   "metadata": {},
   "source": []
  },
  {
   "cell_type": "markdown",
   "metadata": {},
   "source": [
    "\n",
    "\n",
    "the 'total_income' column has missing values but i will not delete these columns just yet becouse i can stil use the other data in them.\n",
    "\n",
    "The \"debt\" column has no missing values as well.\n"
   ]
  },
  {
   "cell_type": "markdown",
   "metadata": {},
   "source": [
    "\n",
    "the 'education' column had lower and uppercase values i made a new column called 'education_lowercase' and changed all the values to lowercase."
   ]
  },
  {
   "cell_type": "markdown",
   "metadata": {},
   "source": [
    "# Data type replacement"
   ]
  },
  {
   "cell_type": "code",
   "execution_count": 9,
   "metadata": {},
   "outputs": [],
   "source": [
    "# adding a new column with the 'education' in lowercase\n",
    "loanTable['education_lowercase'] = loanTable['education'].str.lower()\n",
    "loanTable\n",
    "\n",
    "# adding a column with the catagories changes to only 4 values\n",
    "\n",
    "loanTable['purpose_catagory'] = loanTable['purpose'].str.lower()\n",
    "\n",
    "\n",
    "for row in range(len(loanTable)):\n",
    "    if 'car' in loanTable.loc[row]['purpose_catagory']:\n",
    "        loanTable.at[row,'purpose_catagory']= 'car'\n",
    "    elif 'wedding' in loanTable.loc[row]['purpose_catagory']:\n",
    "        loanTable.at[row,'purpose_catagory']= 'wedding'\n",
    "    elif 'education' in loanTable.loc[row]['purpose_catagory'] or 'university' in loanTable.loc[row]['purpose_catagory']:\n",
    "        loanTable.at[row,'purpose_catagory']= 'education'\n",
    "    else:\n",
    "        loanTable.at[row,'purpose_catagory']= 'real astate'"
   ]
  },
  {
   "cell_type": "markdown",
   "metadata": {},
   "source": [
    "### Conclusion"
   ]
  },
  {
   "cell_type": "markdown",
   "metadata": {},
   "source": [
    "the 'education' column had lower and uppercase values i made a new column called 'education_lowercase' and changed all the values to lowercase.\n",
    "\n",
    "i can see that the easiest way to unify the 'purpose' column will have to be by words, there are 4 general purposes in this data frame: a wedding, buying real estate, buying a car or education. all the weddings have the word \"wedding\" in them all the cars have the word \"car\" in them the education has the word \"education\" or \"university\", and the rest is real estate. i can use this to classify into the 4 catagories. \n"
   ]
  },
  {
   "cell_type": "markdown",
   "metadata": {},
   "source": [
    "### Processing duplicates"
   ]
  },
  {
   "cell_type": "markdown",
   "metadata": {},
   "source": [
    "### Conclusion"
   ]
  },
  {
   "cell_type": "markdown",
   "metadata": {},
   "source": [
    "i did not find duplicates in this table"
   ]
  },
  {
   "cell_type": "markdown",
   "metadata": {},
   "source": [
    "### Categorizing Data"
   ]
  },
  {
   "cell_type": "markdown",
   "metadata": {},
   "source": [
    "### Conclusion"
   ]
  },
  {
   "cell_type": "markdown",
   "metadata": {},
   "source": []
  },
  {
   "cell_type": "markdown",
   "metadata": {},
   "source": [
    "### Step 3. Answer these questions\n",
    "<a class=\"anchor\" id=\"chapter3\"></a>"
   ]
  },
  {
   "cell_type": "markdown",
   "metadata": {},
   "source": [
    "- Is there a relation between having kids and repaying a loan on time?"
   ]
  },
  {
   "cell_type": "code",
   "execution_count": 10,
   "metadata": {},
   "outputs": [
    {
     "data": {
      "text/html": [
       "<div>\n",
       "<style scoped>\n",
       "    .dataframe tbody tr th:only-of-type {\n",
       "        vertical-align: middle;\n",
       "    }\n",
       "\n",
       "    .dataframe tbody tr th {\n",
       "        vertical-align: top;\n",
       "    }\n",
       "\n",
       "    .dataframe thead tr th {\n",
       "        text-align: left;\n",
       "    }\n",
       "\n",
       "    .dataframe thead tr:last-of-type th {\n",
       "        text-align: right;\n",
       "    }\n",
       "</style>\n",
       "<table border=\"1\" class=\"dataframe\">\n",
       "  <thead>\n",
       "    <tr>\n",
       "      <th></th>\n",
       "      <th colspan=\"2\" halign=\"left\">debt</th>\n",
       "      <th>ratio</th>\n",
       "    </tr>\n",
       "    <tr>\n",
       "      <th></th>\n",
       "      <th>count</th>\n",
       "      <th>sum</th>\n",
       "      <th></th>\n",
       "    </tr>\n",
       "    <tr>\n",
       "      <th>have_kids</th>\n",
       "      <th></th>\n",
       "      <th></th>\n",
       "      <th></th>\n",
       "    </tr>\n",
       "  </thead>\n",
       "  <tbody>\n",
       "    <tr>\n",
       "      <th>no</th>\n",
       "      <td>14272</td>\n",
       "      <td>1072</td>\n",
       "      <td>0.075112</td>\n",
       "    </tr>\n",
       "    <tr>\n",
       "      <th>yes</th>\n",
       "      <td>7253</td>\n",
       "      <td>669</td>\n",
       "      <td>0.092238</td>\n",
       "    </tr>\n",
       "  </tbody>\n",
       "</table>\n",
       "</div>"
      ],
      "text/plain": [
       "            debt           ratio\n",
       "           count   sum          \n",
       "have_kids                       \n",
       "no         14272  1072  0.075112\n",
       "yes         7253   669  0.092238"
      ]
     },
     "execution_count": 10,
     "metadata": {},
     "output_type": "execute_result"
    }
   ],
   "source": [
    "# children_pivot = loanTable.pivot_table(index=['debt'],columns = 'children',aggfunc= 'value_counts')\n",
    "# children_pivot\n",
    "debt_group = loanTable.groupby('debt')['children'].value_counts() # making a table that shows me by the number of kids if they have a debt or not\n",
    "\n",
    "#gives me a value ratio between the number with x children whit no bedt to the x children with debt sorted \n",
    "number_of_children_debt_ratio = (debt_group[0]/debt_group[1]).sort_values() \n",
    "#number_of_children_debt_ratio\n",
    "\n",
    "children_group = loanTable.groupby('children').agg({'debt':['count','sum']})\n",
    "\n",
    "children_group['ratio']= children_group['debt','sum']/ children_group['debt','count']\n",
    "children_group.sort_values(by= 'ratio', ascending = False) \n",
    "\n",
    "number_children_debt_table= loanTable[['children','debt']] # creating a new table just with 'children' and 'debt'\n",
    "number_children_debt_table['have_kids']= '' # adding new column that will indicate if has kids or no\n",
    "\n",
    "for row in range(len(number_children_debt_table)):\n",
    "    if number_children_debt_table.loc[row]['children'] == 0:\n",
    "        number_children_debt_table.at[row,'have_kids']= 'no'\n",
    "    else:\n",
    "        number_children_debt_table.at[row,'have_kids']= 'yes'\n",
    "\n",
    "kids_yes_no_group = number_children_debt_table.groupby('have_kids').agg({'debt':['count','sum']})\n",
    "\n",
    "kids_yes_no_group['ratio'] = kids_yes_no_group['debt','sum']/ kids_yes_no_group['debt','count']   \n",
    "\n",
    "children_group.sort_values('ratio')\n",
    "kids_yes_no_group    \n"
   ]
  },
  {
   "cell_type": "markdown",
   "metadata": {},
   "source": [
    "we can see that if we look just by the number of children (table 'children_group') there is no real relationship between the number of children to the debt, the 'inf' in the 5 children is becouse there is no one with 5 children that has a debt. so you might say that someone with 5 children will always pay their debt allthough ther is not enough of this value in the table to realy conclude this.\n",
    "I calculated the relations between people with any number of children to no children at all, there is a slight advantage to not having children at all, around 7.5% with children have debt, and around 9.2% people with children have debt.\n",
    "\n"
   ]
  },
  {
   "cell_type": "markdown",
   "metadata": {},
   "source": []
  },
  {
   "cell_type": "markdown",
   "metadata": {},
   "source": [
    "- Is there a relation between marital status and repaying a loan on time?"
   ]
  },
  {
   "cell_type": "code",
   "execution_count": 11,
   "metadata": {},
   "outputs": [
    {
     "data": {
      "text/html": [
       "<div>\n",
       "<style scoped>\n",
       "    .dataframe tbody tr th:only-of-type {\n",
       "        vertical-align: middle;\n",
       "    }\n",
       "\n",
       "    .dataframe tbody tr th {\n",
       "        vertical-align: top;\n",
       "    }\n",
       "\n",
       "    .dataframe thead tr th {\n",
       "        text-align: left;\n",
       "    }\n",
       "\n",
       "    .dataframe thead tr:last-of-type th {\n",
       "        text-align: right;\n",
       "    }\n",
       "</style>\n",
       "<table border=\"1\" class=\"dataframe\">\n",
       "  <thead>\n",
       "    <tr>\n",
       "      <th></th>\n",
       "      <th colspan=\"2\" halign=\"left\">debt</th>\n",
       "      <th>ratio</th>\n",
       "    </tr>\n",
       "    <tr>\n",
       "      <th></th>\n",
       "      <th>count</th>\n",
       "      <th>sum</th>\n",
       "      <th></th>\n",
       "    </tr>\n",
       "    <tr>\n",
       "      <th>married</th>\n",
       "      <th></th>\n",
       "      <th></th>\n",
       "      <th></th>\n",
       "    </tr>\n",
       "  </thead>\n",
       "  <tbody>\n",
       "    <tr>\n",
       "      <th>no</th>\n",
       "      <td>12380</td>\n",
       "      <td>931</td>\n",
       "      <td>0.075202</td>\n",
       "    </tr>\n",
       "    <tr>\n",
       "      <th>yes</th>\n",
       "      <td>9145</td>\n",
       "      <td>810</td>\n",
       "      <td>0.088573</td>\n",
       "    </tr>\n",
       "  </tbody>\n",
       "</table>\n",
       "</div>"
      ],
      "text/plain": [
       "          debt          ratio\n",
       "         count  sum          \n",
       "married                      \n",
       "no       12380  931  0.075202\n",
       "yes       9145  810  0.088573"
      ]
     },
     "execution_count": 11,
     "metadata": {},
     "output_type": "execute_result"
    }
   ],
   "source": [
    "relation_status_grouped = loanTable.groupby('family_status').agg({'debt':['count','sum']})\n",
    "\n",
    "relation_status_grouped['debt_ratio'] = relation_status_grouped['debt','sum']/ relation_status_grouped['debt','count']\n",
    "relationship_status_table= loanTable[['family_status','family_status_id','debt']]\n",
    "relationship_status_table['married']= ''\n",
    "\n",
    "for row in range(len(relationship_status_table)):\n",
    "    if relationship_status_table.loc[row]['family_status_id'] == 0:\n",
    "        relationship_status_table.at[row,'married']= 'no'\n",
    "    else:\n",
    "        relationship_status_table.at[row,'married']= 'yes'\n",
    "        \n",
    "relationship_status_table_grouped = relationship_status_table.groupby('married').agg({'debt':['count','sum']})\n",
    "relationship_status_table_grouped['ratio'] = relationship_status_table_grouped['debt','sum']/ relationship_status_table_grouped['debt','count']\n",
    "relationship_status_table_grouped\n",
    "relation_status_grouped.sort_values('debt_ratio')\n",
    "relationship_status_table_grouped"
   ]
  },
  {
   "cell_type": "markdown",
   "metadata": {},
   "source": [
    "looking at the charts acourding to the relationship status (table: 'relation_status_grouped') it seems that the 'widow/widower' are the lowest in debt with around 6% other then that unmarried people are the worst with a 9.7%.\n",
    "\n",
    "but when looking at the chart from a married of not point of veiw (table 'relationship_status_table_grouped')\n",
    "not boing ,arried is preffrable with 7.5% in debt, and married with a 8.8% in debt.\n",
    "\n"
   ]
  },
  {
   "cell_type": "markdown",
   "metadata": {},
   "source": []
  },
  {
   "cell_type": "markdown",
   "metadata": {},
   "source": [
    "- Is there a relation between income level and repaying a loan on time?"
   ]
  },
  {
   "cell_type": "code",
   "execution_count": 12,
   "metadata": {},
   "outputs": [],
   "source": [
    "income_table = loanTable[['total_income','debt']]  \n",
    "income_table =income_table.dropna().reset_index(drop=True)\n",
    "mean_income = income_table['total_income'].mean()\n",
    "mean_income_half = mean_income/2\n",
    "mean_income_double = mean_income * 2\n",
    "\n",
    "#adding a column that give the incom level 4 classes highest , med high, med low, low\n",
    "income_table['income_rate']=''\n",
    "\n",
    "for row in range(len(income_table)):\n",
    "    if income_table.loc[row]['total_income'] >= mean_income_double:\n",
    "        income_table.at[row,'income_rate']= 'highest'\n",
    "    elif income_table.loc[row]['total_income'] < mean_income_double and income_table.loc[row]['total_income'] >= mean_income:\n",
    "        income_table.at[row,'income_rate']= 'med high'\n",
    "    elif income_table.loc[row]['total_income'] <= mean_income and income_table.loc[row]['total_income'] >= mean_income_half:\n",
    "        income_table.at[row,'income_rate']= 'med low'\n",
    "    else:\n",
    "        income_table.at[row,'income_rate']= 'low'\n",
    "\n"
   ]
  },
  {
   "cell_type": "code",
   "execution_count": 13,
   "metadata": {},
   "outputs": [
    {
     "data": {
      "text/html": [
       "<div>\n",
       "<style scoped>\n",
       "    .dataframe tbody tr th:only-of-type {\n",
       "        vertical-align: middle;\n",
       "    }\n",
       "\n",
       "    .dataframe tbody tr th {\n",
       "        vertical-align: top;\n",
       "    }\n",
       "\n",
       "    .dataframe thead tr th {\n",
       "        text-align: left;\n",
       "    }\n",
       "\n",
       "    .dataframe thead tr:last-of-type th {\n",
       "        text-align: right;\n",
       "    }\n",
       "</style>\n",
       "<table border=\"1\" class=\"dataframe\">\n",
       "  <thead>\n",
       "    <tr>\n",
       "      <th></th>\n",
       "      <th colspan=\"2\" halign=\"left\">debt</th>\n",
       "      <th>ratio</th>\n",
       "    </tr>\n",
       "    <tr>\n",
       "      <th></th>\n",
       "      <th>count</th>\n",
       "      <th>sum</th>\n",
       "      <th></th>\n",
       "    </tr>\n",
       "    <tr>\n",
       "      <th>income_rate</th>\n",
       "      <th></th>\n",
       "      <th></th>\n",
       "      <th></th>\n",
       "    </tr>\n",
       "  </thead>\n",
       "  <tbody>\n",
       "    <tr>\n",
       "      <th>highest</th>\n",
       "      <td>1033</td>\n",
       "      <td>71</td>\n",
       "      <td>0.068732</td>\n",
       "    </tr>\n",
       "    <tr>\n",
       "      <th>low</th>\n",
       "      <td>2664</td>\n",
       "      <td>205</td>\n",
       "      <td>0.076952</td>\n",
       "    </tr>\n",
       "    <tr>\n",
       "      <th>med high</th>\n",
       "      <td>6426</td>\n",
       "      <td>497</td>\n",
       "      <td>0.077342</td>\n",
       "    </tr>\n",
       "    <tr>\n",
       "      <th>med low</th>\n",
       "      <td>9228</td>\n",
       "      <td>798</td>\n",
       "      <td>0.086476</td>\n",
       "    </tr>\n",
       "  </tbody>\n",
       "</table>\n",
       "</div>"
      ],
      "text/plain": [
       "             debt          ratio\n",
       "            count  sum          \n",
       "income_rate                     \n",
       "highest      1033   71  0.068732\n",
       "low          2664  205  0.076952\n",
       "med high     6426  497  0.077342\n",
       "med low      9228  798  0.086476"
      ]
     },
     "execution_count": 13,
     "metadata": {},
     "output_type": "execute_result"
    }
   ],
   "source": [
    "income_table_grouped = income_table.groupby('income_rate').agg({'debt':['count','sum']})\n",
    "income_table_grouped['ratio'] = income_table_grouped['debt','sum']/ income_table_grouped['debt','count']\n",
    "income_table_grouped.sort_values('ratio')"
   ]
  },
  {
   "cell_type": "markdown",
   "metadata": {},
   "source": [
    "### Conclusion"
   ]
  },
  {
   "cell_type": "markdown",
   "metadata": {},
   "source": [
    "for this question i will adress the missing values in the income column, there are missing values in this column but i have no way of knowing what they are, replacing them with somthing will not help me becouse it will just give more eandom noise to the data so i made a new table ( 'income_table' ) and deleted the missing values. \n",
    "ill devide the incom to 4 classes using the mean  half of the mean and double the mean.\n",
    "the table 'income_table_grouped' shows that people with verry high incom are more likely not to be in debt with a 6.8% in debt\n",
    "but after that for the low and mid low range it is pretty close with 7.7% with debt. and with a 8.6% of the med high pay range are in debt. once again it is not a stright forward conclution"
   ]
  },
  {
   "cell_type": "markdown",
   "metadata": {},
   "source": [
    "- How do different loan purposes affect on-time repayment of the loan?"
   ]
  },
  {
   "cell_type": "code",
   "execution_count": 14,
   "metadata": {},
   "outputs": [
    {
     "data": {
      "text/html": [
       "<div>\n",
       "<style scoped>\n",
       "    .dataframe tbody tr th:only-of-type {\n",
       "        vertical-align: middle;\n",
       "    }\n",
       "\n",
       "    .dataframe tbody tr th {\n",
       "        vertical-align: top;\n",
       "    }\n",
       "\n",
       "    .dataframe thead tr th {\n",
       "        text-align: left;\n",
       "    }\n",
       "\n",
       "    .dataframe thead tr:last-of-type th {\n",
       "        text-align: right;\n",
       "    }\n",
       "</style>\n",
       "<table border=\"1\" class=\"dataframe\">\n",
       "  <thead>\n",
       "    <tr>\n",
       "      <th></th>\n",
       "      <th colspan=\"2\" halign=\"left\">debt</th>\n",
       "      <th>ratio</th>\n",
       "    </tr>\n",
       "    <tr>\n",
       "      <th></th>\n",
       "      <th>count</th>\n",
       "      <th>sum</th>\n",
       "      <th></th>\n",
       "    </tr>\n",
       "    <tr>\n",
       "      <th>purpose_catagory</th>\n",
       "      <th></th>\n",
       "      <th></th>\n",
       "      <th></th>\n",
       "    </tr>\n",
       "  </thead>\n",
       "  <tbody>\n",
       "    <tr>\n",
       "      <th>car</th>\n",
       "      <td>4315</td>\n",
       "      <td>403</td>\n",
       "      <td>0.093395</td>\n",
       "    </tr>\n",
       "    <tr>\n",
       "      <th>education</th>\n",
       "      <td>3610</td>\n",
       "      <td>331</td>\n",
       "      <td>0.091690</td>\n",
       "    </tr>\n",
       "    <tr>\n",
       "      <th>real astate</th>\n",
       "      <td>11252</td>\n",
       "      <td>821</td>\n",
       "      <td>0.072965</td>\n",
       "    </tr>\n",
       "    <tr>\n",
       "      <th>wedding</th>\n",
       "      <td>2348</td>\n",
       "      <td>186</td>\n",
       "      <td>0.079216</td>\n",
       "    </tr>\n",
       "  </tbody>\n",
       "</table>\n",
       "</div>"
      ],
      "text/plain": [
       "                   debt          ratio\n",
       "                  count  sum          \n",
       "purpose_catagory                      \n",
       "car                4315  403  0.093395\n",
       "education          3610  331  0.091690\n",
       "real astate       11252  821  0.072965\n",
       "wedding            2348  186  0.079216"
      ]
     },
     "execution_count": 14,
     "metadata": {},
     "output_type": "execute_result"
    }
   ],
   "source": [
    "purpose_table = loanTable[['purpose_catagory','debt']]\n",
    "purpose_table_grouped = purpose_table.groupby('purpose_catagory').agg({'debt':['count','sum']})\n",
    "purpose_table_grouped['ratio'] = purpose_table_grouped['debt','sum']/ purpose_table_grouped['debt','count']\n",
    "purpose_table_grouped"
   ]
  },
  {
   "cell_type": "markdown",
   "metadata": {},
   "source": [
    "### Conclusion"
   ]
  },
  {
   "cell_type": "markdown",
   "metadata": {},
   "source": [
    "when looking at the purpose of the loan 9.3% of people wanting a buy a car are in debt\n",
    "not far behind them  educational purposes are at 9.1%\n",
    "at ther bottom with 7.2% are people wanting to invest in real astate with 7.2% in debt"
   ]
  },
  {
   "cell_type": "markdown",
   "metadata": {},
   "source": [
    "### Step 4. General conclusion\n",
    "<a class=\"anchor\" id=\"chapter4\"></a>"
   ]
  },
  {
   "cell_type": "markdown",
   "metadata": {},
   "source": [
    "from the data in this table i have reached the conclution that there is the optimal kind of person with the highest chance of paying back a loan. is a person that has no kids, not married or even better a widower, varry high paid (high pay for this purpose i calculated as double the mean and the total income) and the purpose of the loan is rel astate.\n",
    "the precentage of change is not very high ranging a max of 3%. the lowest catagory for debt was a widower with 6.5% in debt.\n",
    "\n",
    "the worst person to loan money to will be someone with kids ( 4 children is the worst) unmarried with a medium-high income (higher then the mean lower then double the mean) that wants to buy a car or education.\n",
    "generaly people without kids will have a better chance of not having debt (7.5%) then with kids  (9.2%)\n",
    "the one single value that is the worst is 9.7% with debt for people with 4 kids.\n",
    "\n"
   ]
  }
 ],
 "metadata": {
  "kernelspec": {
   "display_name": "Python 3",
   "language": "python",
   "name": "python3"
  },
  "language_info": {
   "codemirror_mode": {
    "name": "ipython",
    "version": 3
   },
   "file_extension": ".py",
   "mimetype": "text/x-python",
   "name": "python",
   "nbconvert_exporter": "python",
   "pygments_lexer": "ipython3",
   "version": "3.8.3"
  },
  "toc": {
   "base_numbering": 1,
   "nav_menu": {},
   "number_sections": true,
   "sideBar": true,
   "skip_h1_title": true,
   "title_cell": "Table of Contents",
   "title_sidebar": "Contents",
   "toc_cell": false,
   "toc_position": {},
   "toc_section_display": true,
   "toc_window_display": false
  }
 },
 "nbformat": 4,
 "nbformat_minor": 2
}
