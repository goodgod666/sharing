{
 "cells": [
  {
   "cell_type": "markdown",
   "metadata": {},
   "source": [
    "# Telecom: Identifying Ineffective Operators"
   ]
  },
  {
   "cell_type": "markdown",
   "metadata": {},
   "source": [
    "## Project Discription"
   ]
  },
  {
   "cell_type": "markdown",
   "metadata": {},
   "source": [
    "The virtual telephony service CallMeMaybe is developing a new function that will give supervisors information on the least effective operators. An operator is considered ineffective if they have a large number of missed incoming calls (internal and external) and a long waiting time for incoming calls. Moreover, if an operator is supposed to make outgoing calls, a small number of them is also a sign of ineffectiveness.\n",
    "\n",
    "- Carry out exploratory data analysis\n",
    "- Identify ineffective operators\n",
    "- Test statistical hypotheses"
   ]
  },
  {
   "cell_type": "markdown",
   "metadata": {},
   "source": [
    "### General approche"
   ]
  },
  {
   "cell_type": "markdown",
   "metadata": {},
   "source": [
    "I will start by looking at the general data, preform a regular EDA and plot graphs after I have a big picture perspective I will define the metrics that make an operator ineffective and write a function that will score the operators according to their efficiency. \n",
    "In the end we will test the hypothesis that the more time an operator works the higher they score in the efficiency test.\n",
    "\n",
    "There is a presentation attached to this project."
   ]
  },
  {
   "cell_type": "markdown",
   "metadata": {},
   "source": [
    "Presentation link: https://drive.google.com/file/d/1uAFTz5RF_CDhJXqvrJ6tNt0VS9hU-q2f/view?usp=sharing"
   ]
  },
  {
   "cell_type": "code",
   "execution_count": 1,
   "metadata": {},
   "outputs": [],
   "source": [
    "# Imports\n",
    "\n",
    "import math\n",
    "import pandas as pd\n",
    "import random\n",
    "from scipy import stats as st\n",
    "import numpy as np\n",
    "import matplotlib.pyplot as plt\n",
    "import warnings\n",
    "import plotly.express as px\n",
    "import seaborn as sns\n",
    "import matplotlib.patches as mpatches\n",
    "import matplotlib.colors as mcolors\n",
    "import datetime\n",
    "from matplotlib.dates import date2num\n",
    "from matplotlib.dates import DateFormatter\n",
    "import matplotlib.dates as mdates\n",
    "import matplotlib.gridspec as gridspec\n",
    "from collections import Counter\n",
    "\n",
    "from matplotlib.dates import date2num\n",
    "warnings.filterwarnings (\"ignore\")\n",
    "\n",
    "%matplotlib inline"
   ]
  },
  {
   "cell_type": "markdown",
   "metadata": {},
   "source": [
    "## Table of contents\n",
    "\n",
    "* [1.Importing data](#chapter1)\n",
    "* [2.Cleaning the data](#chapter2)\n",
    "   * [Cheking for missing values](#section_2_1)\n",
    "   * [Checking for dupicates](#section_2_2)\n",
    "   * [Adding columns Joining data](#section_2_3)\n",
    "* [3.Studying the general data and plotting graphs](#chapter3)\n",
    "    * [Daily number of calls](#section_3_1)\n",
    "    * [Call duration excluding waiting time](#section_3_2)\n",
    "    * [Waiting time for a call](#section_3_3)\n",
    "    * [Number of operators and answered vs unanswered calls](#section_3_4)\n",
    "    * [The proportions of internal calls from all calls](#section_3_5)\n",
    "    * [The proportions of unanswered calls from internal and external calls](#section_3_6)\n",
    "    * [Calls by user, average number of calls and average duration](#section_3_7)\n",
    "    * [Cheking to see if the users plan changes the number of calls, duration, waiting time](#section_3_8)\n",
    "    * [The average number of calls an operator has in a day](#section_3_9)\n",
    "* [4.Identifying ineffective metrics](#chapter4)\n",
    "    * [Cheking for missing values](#section_4_1)\n",
    "    * [Cheking for missing values](#section_4_2)\n",
    "    * [Cheking for missing values](#section_4_3)\n",
    "    * [Cheking for missing values](#section_4_4)\n",
    "    * [Cheking for missing values](#section_4_5)\n",
    "* [5.Adding efficiency score columns](#chapter5)\n",
    "* [6.Testing the hypothesis](#chapter6)\n",
    "* [7.Conclution](#chapter7)\n",
    "* [8.Documentation¶](#chapter8)"
   ]
  },
  {
   "cell_type": "markdown",
   "metadata": {},
   "source": [
    "## 1. Importing data\n",
    "<a class=\"anchor\" id=\"chapter1\"></a>"
   ]
  },
  {
   "cell_type": "code",
   "execution_count": 2,
   "metadata": {},
   "outputs": [],
   "source": [
    "local_path1 = '/Users/yoni/Pictures/jupyter/Final Project/Telecom/telecom_clients_us.csv'\n",
    "local_path2 = '/Users/yoni/Pictures/jupyter/Final Project/Telecom/telecom_dataset_us.csv'"
   ]
  },
  {
   "cell_type": "code",
   "execution_count": 3,
   "metadata": {},
   "outputs": [],
   "source": [
    "# Importing data with column types\n",
    "clients = pd.read_csv(local_path1, parse_dates=['date_start'])\n",
    "dataset = pd.read_csv(local_path2, parse_dates=['date'])"
   ]
  },
  {
   "cell_type": "code",
   "execution_count": 4,
   "metadata": {
    "cell_style": "split"
   },
   "outputs": [
    {
     "data": {
      "text/html": [
       "<div>\n",
       "<style scoped>\n",
       "    .dataframe tbody tr th:only-of-type {\n",
       "        vertical-align: middle;\n",
       "    }\n",
       "\n",
       "    .dataframe tbody tr th {\n",
       "        vertical-align: top;\n",
       "    }\n",
       "\n",
       "    .dataframe thead th {\n",
       "        text-align: right;\n",
       "    }\n",
       "</style>\n",
       "<table border=\"1\" class=\"dataframe\">\n",
       "  <thead>\n",
       "    <tr style=\"text-align: right;\">\n",
       "      <th></th>\n",
       "      <th>user_id</th>\n",
       "      <th>tariff_plan</th>\n",
       "      <th>date_start</th>\n",
       "    </tr>\n",
       "  </thead>\n",
       "  <tbody>\n",
       "    <tr>\n",
       "      <th>0</th>\n",
       "      <td>166713</td>\n",
       "      <td>A</td>\n",
       "      <td>2019-08-15</td>\n",
       "    </tr>\n",
       "    <tr>\n",
       "      <th>1</th>\n",
       "      <td>166901</td>\n",
       "      <td>A</td>\n",
       "      <td>2019-08-23</td>\n",
       "    </tr>\n",
       "    <tr>\n",
       "      <th>2</th>\n",
       "      <td>168527</td>\n",
       "      <td>A</td>\n",
       "      <td>2019-10-29</td>\n",
       "    </tr>\n",
       "    <tr>\n",
       "      <th>3</th>\n",
       "      <td>167097</td>\n",
       "      <td>A</td>\n",
       "      <td>2019-09-01</td>\n",
       "    </tr>\n",
       "    <tr>\n",
       "      <th>4</th>\n",
       "      <td>168193</td>\n",
       "      <td>A</td>\n",
       "      <td>2019-10-16</td>\n",
       "    </tr>\n",
       "  </tbody>\n",
       "</table>\n",
       "</div>"
      ],
      "text/plain": [
       "   user_id tariff_plan date_start\n",
       "0   166713           A 2019-08-15\n",
       "1   166901           A 2019-08-23\n",
       "2   168527           A 2019-10-29\n",
       "3   167097           A 2019-09-01\n",
       "4   168193           A 2019-10-16"
      ]
     },
     "execution_count": 4,
     "metadata": {},
     "output_type": "execute_result"
    }
   ],
   "source": [
    "clients.head()"
   ]
  },
  {
   "cell_type": "code",
   "execution_count": 5,
   "metadata": {
    "cell_style": "split"
   },
   "outputs": [
    {
     "data": {
      "text/html": [
       "<div>\n",
       "<style scoped>\n",
       "    .dataframe tbody tr th:only-of-type {\n",
       "        vertical-align: middle;\n",
       "    }\n",
       "\n",
       "    .dataframe tbody tr th {\n",
       "        vertical-align: top;\n",
       "    }\n",
       "\n",
       "    .dataframe thead th {\n",
       "        text-align: right;\n",
       "    }\n",
       "</style>\n",
       "<table border=\"1\" class=\"dataframe\">\n",
       "  <thead>\n",
       "    <tr style=\"text-align: right;\">\n",
       "      <th></th>\n",
       "      <th>user_id</th>\n",
       "      <th>tariff_plan</th>\n",
       "      <th>date_start</th>\n",
       "    </tr>\n",
       "  </thead>\n",
       "  <tbody>\n",
       "    <tr>\n",
       "      <th>727</th>\n",
       "      <td>166554</td>\n",
       "      <td>B</td>\n",
       "      <td>2019-08-08</td>\n",
       "    </tr>\n",
       "    <tr>\n",
       "      <th>728</th>\n",
       "      <td>166911</td>\n",
       "      <td>B</td>\n",
       "      <td>2019-08-23</td>\n",
       "    </tr>\n",
       "    <tr>\n",
       "      <th>729</th>\n",
       "      <td>167012</td>\n",
       "      <td>B</td>\n",
       "      <td>2019-08-28</td>\n",
       "    </tr>\n",
       "    <tr>\n",
       "      <th>730</th>\n",
       "      <td>166867</td>\n",
       "      <td>B</td>\n",
       "      <td>2019-08-22</td>\n",
       "    </tr>\n",
       "    <tr>\n",
       "      <th>731</th>\n",
       "      <td>166565</td>\n",
       "      <td>B</td>\n",
       "      <td>2019-08-08</td>\n",
       "    </tr>\n",
       "  </tbody>\n",
       "</table>\n",
       "</div>"
      ],
      "text/plain": [
       "     user_id tariff_plan date_start\n",
       "727   166554           B 2019-08-08\n",
       "728   166911           B 2019-08-23\n",
       "729   167012           B 2019-08-28\n",
       "730   166867           B 2019-08-22\n",
       "731   166565           B 2019-08-08"
      ]
     },
     "execution_count": 5,
     "metadata": {},
     "output_type": "execute_result"
    }
   ],
   "source": [
    "clients.tail()"
   ]
  },
  {
   "cell_type": "code",
   "execution_count": 6,
   "metadata": {
    "cell_style": "split"
   },
   "outputs": [
    {
     "name": "stdout",
     "output_type": "stream",
     "text": [
      "<class 'pandas.core.frame.DataFrame'>\n",
      "RangeIndex: 732 entries, 0 to 731\n",
      "Data columns (total 3 columns):\n",
      " #   Column       Non-Null Count  Dtype         \n",
      "---  ------       --------------  -----         \n",
      " 0   user_id      732 non-null    int64         \n",
      " 1   tariff_plan  732 non-null    object        \n",
      " 2   date_start   732 non-null    datetime64[ns]\n",
      "dtypes: datetime64[ns](1), int64(1), object(1)\n",
      "memory usage: 17.3+ KB\n"
     ]
    }
   ],
   "source": [
    "clients.info()"
   ]
  },
  {
   "cell_type": "code",
   "execution_count": 7,
   "metadata": {
    "cell_style": "split"
   },
   "outputs": [
    {
     "data": {
      "text/html": [
       "<div>\n",
       "<style scoped>\n",
       "    .dataframe tbody tr th:only-of-type {\n",
       "        vertical-align: middle;\n",
       "    }\n",
       "\n",
       "    .dataframe tbody tr th {\n",
       "        vertical-align: top;\n",
       "    }\n",
       "\n",
       "    .dataframe thead th {\n",
       "        text-align: right;\n",
       "    }\n",
       "</style>\n",
       "<table border=\"1\" class=\"dataframe\">\n",
       "  <thead>\n",
       "    <tr style=\"text-align: right;\">\n",
       "      <th></th>\n",
       "      <th>user_id</th>\n",
       "      <th>tariff_plan</th>\n",
       "      <th>date_start</th>\n",
       "    </tr>\n",
       "  </thead>\n",
       "  <tbody>\n",
       "    <tr>\n",
       "      <th>count</th>\n",
       "      <td>732.000000</td>\n",
       "      <td>732</td>\n",
       "      <td>732</td>\n",
       "    </tr>\n",
       "    <tr>\n",
       "      <th>unique</th>\n",
       "      <td>NaN</td>\n",
       "      <td>3</td>\n",
       "      <td>73</td>\n",
       "    </tr>\n",
       "    <tr>\n",
       "      <th>top</th>\n",
       "      <td>NaN</td>\n",
       "      <td>C</td>\n",
       "      <td>2019-09-24 00:00:00</td>\n",
       "    </tr>\n",
       "    <tr>\n",
       "      <th>freq</th>\n",
       "      <td>NaN</td>\n",
       "      <td>395</td>\n",
       "      <td>24</td>\n",
       "    </tr>\n",
       "    <tr>\n",
       "      <th>first</th>\n",
       "      <td>NaN</td>\n",
       "      <td>NaN</td>\n",
       "      <td>2019-08-01 00:00:00</td>\n",
       "    </tr>\n",
       "    <tr>\n",
       "      <th>last</th>\n",
       "      <td>NaN</td>\n",
       "      <td>NaN</td>\n",
       "      <td>2019-10-31 00:00:00</td>\n",
       "    </tr>\n",
       "    <tr>\n",
       "      <th>mean</th>\n",
       "      <td>167431.927596</td>\n",
       "      <td>NaN</td>\n",
       "      <td>NaN</td>\n",
       "    </tr>\n",
       "    <tr>\n",
       "      <th>std</th>\n",
       "      <td>633.810383</td>\n",
       "      <td>NaN</td>\n",
       "      <td>NaN</td>\n",
       "    </tr>\n",
       "    <tr>\n",
       "      <th>min</th>\n",
       "      <td>166373.000000</td>\n",
       "      <td>NaN</td>\n",
       "      <td>NaN</td>\n",
       "    </tr>\n",
       "    <tr>\n",
       "      <th>25%</th>\n",
       "      <td>166900.750000</td>\n",
       "      <td>NaN</td>\n",
       "      <td>NaN</td>\n",
       "    </tr>\n",
       "    <tr>\n",
       "      <th>50%</th>\n",
       "      <td>167432.000000</td>\n",
       "      <td>NaN</td>\n",
       "      <td>NaN</td>\n",
       "    </tr>\n",
       "    <tr>\n",
       "      <th>75%</th>\n",
       "      <td>167973.000000</td>\n",
       "      <td>NaN</td>\n",
       "      <td>NaN</td>\n",
       "    </tr>\n",
       "    <tr>\n",
       "      <th>max</th>\n",
       "      <td>168606.000000</td>\n",
       "      <td>NaN</td>\n",
       "      <td>NaN</td>\n",
       "    </tr>\n",
       "  </tbody>\n",
       "</table>\n",
       "</div>"
      ],
      "text/plain": [
       "              user_id tariff_plan           date_start\n",
       "count      732.000000         732                  732\n",
       "unique            NaN           3                   73\n",
       "top               NaN           C  2019-09-24 00:00:00\n",
       "freq              NaN         395                   24\n",
       "first             NaN         NaN  2019-08-01 00:00:00\n",
       "last              NaN         NaN  2019-10-31 00:00:00\n",
       "mean    167431.927596         NaN                  NaN\n",
       "std        633.810383         NaN                  NaN\n",
       "min     166373.000000         NaN                  NaN\n",
       "25%     166900.750000         NaN                  NaN\n",
       "50%     167432.000000         NaN                  NaN\n",
       "75%     167973.000000         NaN                  NaN\n",
       "max     168606.000000         NaN                  NaN"
      ]
     },
     "execution_count": 7,
     "metadata": {},
     "output_type": "execute_result"
    }
   ],
   "source": [
    "clients.describe(include='all')"
   ]
  },
  {
   "cell_type": "markdown",
   "metadata": {},
   "source": [
    "Clients has 732 users with geristration dates from 2019 08/01-10/31 that is three months."
   ]
  },
  {
   "cell_type": "code",
   "execution_count": 8,
   "metadata": {},
   "outputs": [
    {
     "data": {
      "text/html": [
       "<div>\n",
       "<style scoped>\n",
       "    .dataframe tbody tr th:only-of-type {\n",
       "        vertical-align: middle;\n",
       "    }\n",
       "\n",
       "    .dataframe tbody tr th {\n",
       "        vertical-align: top;\n",
       "    }\n",
       "\n",
       "    .dataframe thead th {\n",
       "        text-align: right;\n",
       "    }\n",
       "</style>\n",
       "<table border=\"1\" class=\"dataframe\">\n",
       "  <thead>\n",
       "    <tr style=\"text-align: right;\">\n",
       "      <th></th>\n",
       "      <th>user_id</th>\n",
       "      <th>date</th>\n",
       "      <th>direction</th>\n",
       "      <th>internal</th>\n",
       "      <th>operator_id</th>\n",
       "      <th>is_missed_call</th>\n",
       "      <th>calls_count</th>\n",
       "      <th>call_duration</th>\n",
       "      <th>total_call_duration</th>\n",
       "    </tr>\n",
       "  </thead>\n",
       "  <tbody>\n",
       "    <tr>\n",
       "      <th>0</th>\n",
       "      <td>166377</td>\n",
       "      <td>2019-08-04 00:00:00+03:00</td>\n",
       "      <td>in</td>\n",
       "      <td>False</td>\n",
       "      <td>NaN</td>\n",
       "      <td>True</td>\n",
       "      <td>2</td>\n",
       "      <td>0</td>\n",
       "      <td>4</td>\n",
       "    </tr>\n",
       "    <tr>\n",
       "      <th>1</th>\n",
       "      <td>166377</td>\n",
       "      <td>2019-08-05 00:00:00+03:00</td>\n",
       "      <td>out</td>\n",
       "      <td>True</td>\n",
       "      <td>880022.0</td>\n",
       "      <td>True</td>\n",
       "      <td>3</td>\n",
       "      <td>0</td>\n",
       "      <td>5</td>\n",
       "    </tr>\n",
       "    <tr>\n",
       "      <th>2</th>\n",
       "      <td>166377</td>\n",
       "      <td>2019-08-05 00:00:00+03:00</td>\n",
       "      <td>out</td>\n",
       "      <td>True</td>\n",
       "      <td>880020.0</td>\n",
       "      <td>True</td>\n",
       "      <td>1</td>\n",
       "      <td>0</td>\n",
       "      <td>1</td>\n",
       "    </tr>\n",
       "    <tr>\n",
       "      <th>3</th>\n",
       "      <td>166377</td>\n",
       "      <td>2019-08-05 00:00:00+03:00</td>\n",
       "      <td>out</td>\n",
       "      <td>True</td>\n",
       "      <td>880020.0</td>\n",
       "      <td>False</td>\n",
       "      <td>1</td>\n",
       "      <td>10</td>\n",
       "      <td>18</td>\n",
       "    </tr>\n",
       "    <tr>\n",
       "      <th>4</th>\n",
       "      <td>166377</td>\n",
       "      <td>2019-08-05 00:00:00+03:00</td>\n",
       "      <td>out</td>\n",
       "      <td>False</td>\n",
       "      <td>880022.0</td>\n",
       "      <td>True</td>\n",
       "      <td>3</td>\n",
       "      <td>0</td>\n",
       "      <td>25</td>\n",
       "    </tr>\n",
       "  </tbody>\n",
       "</table>\n",
       "</div>"
      ],
      "text/plain": [
       "   user_id                      date direction internal  operator_id  \\\n",
       "0   166377 2019-08-04 00:00:00+03:00        in    False          NaN   \n",
       "1   166377 2019-08-05 00:00:00+03:00       out     True     880022.0   \n",
       "2   166377 2019-08-05 00:00:00+03:00       out     True     880020.0   \n",
       "3   166377 2019-08-05 00:00:00+03:00       out     True     880020.0   \n",
       "4   166377 2019-08-05 00:00:00+03:00       out    False     880022.0   \n",
       "\n",
       "   is_missed_call  calls_count  call_duration  total_call_duration  \n",
       "0            True            2              0                    4  \n",
       "1            True            3              0                    5  \n",
       "2            True            1              0                    1  \n",
       "3           False            1             10                   18  \n",
       "4            True            3              0                   25  "
      ]
     },
     "execution_count": 8,
     "metadata": {},
     "output_type": "execute_result"
    }
   ],
   "source": [
    "dataset.head()"
   ]
  },
  {
   "cell_type": "code",
   "execution_count": 9,
   "metadata": {},
   "outputs": [
    {
     "data": {
      "text/html": [
       "<div>\n",
       "<style scoped>\n",
       "    .dataframe tbody tr th:only-of-type {\n",
       "        vertical-align: middle;\n",
       "    }\n",
       "\n",
       "    .dataframe tbody tr th {\n",
       "        vertical-align: top;\n",
       "    }\n",
       "\n",
       "    .dataframe thead th {\n",
       "        text-align: right;\n",
       "    }\n",
       "</style>\n",
       "<table border=\"1\" class=\"dataframe\">\n",
       "  <thead>\n",
       "    <tr style=\"text-align: right;\">\n",
       "      <th></th>\n",
       "      <th>user_id</th>\n",
       "      <th>date</th>\n",
       "      <th>direction</th>\n",
       "      <th>internal</th>\n",
       "      <th>operator_id</th>\n",
       "      <th>is_missed_call</th>\n",
       "      <th>calls_count</th>\n",
       "      <th>call_duration</th>\n",
       "      <th>total_call_duration</th>\n",
       "    </tr>\n",
       "  </thead>\n",
       "  <tbody>\n",
       "    <tr>\n",
       "      <th>53897</th>\n",
       "      <td>168606</td>\n",
       "      <td>2019-11-10 00:00:00+03:00</td>\n",
       "      <td>out</td>\n",
       "      <td>True</td>\n",
       "      <td>957922.0</td>\n",
       "      <td>True</td>\n",
       "      <td>1</td>\n",
       "      <td>0</td>\n",
       "      <td>38</td>\n",
       "    </tr>\n",
       "    <tr>\n",
       "      <th>53898</th>\n",
       "      <td>168606</td>\n",
       "      <td>2019-11-11 00:00:00+03:00</td>\n",
       "      <td>out</td>\n",
       "      <td>True</td>\n",
       "      <td>957922.0</td>\n",
       "      <td>False</td>\n",
       "      <td>2</td>\n",
       "      <td>479</td>\n",
       "      <td>501</td>\n",
       "    </tr>\n",
       "    <tr>\n",
       "      <th>53899</th>\n",
       "      <td>168606</td>\n",
       "      <td>2019-11-15 00:00:00+03:00</td>\n",
       "      <td>out</td>\n",
       "      <td>True</td>\n",
       "      <td>957922.0</td>\n",
       "      <td>False</td>\n",
       "      <td>4</td>\n",
       "      <td>3130</td>\n",
       "      <td>3190</td>\n",
       "    </tr>\n",
       "    <tr>\n",
       "      <th>53900</th>\n",
       "      <td>168606</td>\n",
       "      <td>2019-11-15 00:00:00+03:00</td>\n",
       "      <td>out</td>\n",
       "      <td>True</td>\n",
       "      <td>957922.0</td>\n",
       "      <td>False</td>\n",
       "      <td>4</td>\n",
       "      <td>3130</td>\n",
       "      <td>3190</td>\n",
       "    </tr>\n",
       "    <tr>\n",
       "      <th>53901</th>\n",
       "      <td>168606</td>\n",
       "      <td>2019-11-19 00:00:00+03:00</td>\n",
       "      <td>in</td>\n",
       "      <td>False</td>\n",
       "      <td>NaN</td>\n",
       "      <td>True</td>\n",
       "      <td>2</td>\n",
       "      <td>0</td>\n",
       "      <td>64</td>\n",
       "    </tr>\n",
       "  </tbody>\n",
       "</table>\n",
       "</div>"
      ],
      "text/plain": [
       "       user_id                      date direction internal  operator_id  \\\n",
       "53897   168606 2019-11-10 00:00:00+03:00       out     True     957922.0   \n",
       "53898   168606 2019-11-11 00:00:00+03:00       out     True     957922.0   \n",
       "53899   168606 2019-11-15 00:00:00+03:00       out     True     957922.0   \n",
       "53900   168606 2019-11-15 00:00:00+03:00       out     True     957922.0   \n",
       "53901   168606 2019-11-19 00:00:00+03:00        in    False          NaN   \n",
       "\n",
       "       is_missed_call  calls_count  call_duration  total_call_duration  \n",
       "53897            True            1              0                   38  \n",
       "53898           False            2            479                  501  \n",
       "53899           False            4           3130                 3190  \n",
       "53900           False            4           3130                 3190  \n",
       "53901            True            2              0                   64  "
      ]
     },
     "execution_count": 9,
     "metadata": {},
     "output_type": "execute_result"
    }
   ],
   "source": [
    "dataset.tail()"
   ]
  },
  {
   "cell_type": "code",
   "execution_count": 10,
   "metadata": {
    "scrolled": true
   },
   "outputs": [
    {
     "name": "stdout",
     "output_type": "stream",
     "text": [
      "<class 'pandas.core.frame.DataFrame'>\n",
      "RangeIndex: 53902 entries, 0 to 53901\n",
      "Data columns (total 9 columns):\n",
      " #   Column               Non-Null Count  Dtype                                \n",
      "---  ------               --------------  -----                                \n",
      " 0   user_id              53902 non-null  int64                                \n",
      " 1   date                 53902 non-null  datetime64[ns, pytz.FixedOffset(180)]\n",
      " 2   direction            53902 non-null  object                               \n",
      " 3   internal             53785 non-null  object                               \n",
      " 4   operator_id          45730 non-null  float64                              \n",
      " 5   is_missed_call       53902 non-null  bool                                 \n",
      " 6   calls_count          53902 non-null  int64                                \n",
      " 7   call_duration        53902 non-null  int64                                \n",
      " 8   total_call_duration  53902 non-null  int64                                \n",
      "dtypes: bool(1), datetime64[ns, pytz.FixedOffset(180)](1), float64(1), int64(4), object(2)\n",
      "memory usage: 3.3+ MB\n"
     ]
    }
   ],
   "source": [
    "dataset.info()"
   ]
  },
  {
   "cell_type": "markdown",
   "metadata": {},
   "source": [
    "It seems there are Null obgects in two of the columns 'operator_id' and 'internal'"
   ]
  },
  {
   "cell_type": "code",
   "execution_count": 11,
   "metadata": {
    "scrolled": false
   },
   "outputs": [
    {
     "data": {
      "text/html": [
       "<div>\n",
       "<style scoped>\n",
       "    .dataframe tbody tr th:only-of-type {\n",
       "        vertical-align: middle;\n",
       "    }\n",
       "\n",
       "    .dataframe tbody tr th {\n",
       "        vertical-align: top;\n",
       "    }\n",
       "\n",
       "    .dataframe thead th {\n",
       "        text-align: right;\n",
       "    }\n",
       "</style>\n",
       "<table border=\"1\" class=\"dataframe\">\n",
       "  <thead>\n",
       "    <tr style=\"text-align: right;\">\n",
       "      <th></th>\n",
       "      <th>user_id</th>\n",
       "      <th>date</th>\n",
       "      <th>direction</th>\n",
       "      <th>internal</th>\n",
       "      <th>operator_id</th>\n",
       "      <th>is_missed_call</th>\n",
       "      <th>calls_count</th>\n",
       "      <th>call_duration</th>\n",
       "      <th>total_call_duration</th>\n",
       "    </tr>\n",
       "  </thead>\n",
       "  <tbody>\n",
       "    <tr>\n",
       "      <th>count</th>\n",
       "      <td>53902.000000</td>\n",
       "      <td>53902</td>\n",
       "      <td>53902</td>\n",
       "      <td>53785</td>\n",
       "      <td>45730.000000</td>\n",
       "      <td>53902</td>\n",
       "      <td>53902.000000</td>\n",
       "      <td>53902.000000</td>\n",
       "      <td>53902.000000</td>\n",
       "    </tr>\n",
       "    <tr>\n",
       "      <th>unique</th>\n",
       "      <td>NaN</td>\n",
       "      <td>119</td>\n",
       "      <td>2</td>\n",
       "      <td>2</td>\n",
       "      <td>NaN</td>\n",
       "      <td>2</td>\n",
       "      <td>NaN</td>\n",
       "      <td>NaN</td>\n",
       "      <td>NaN</td>\n",
       "    </tr>\n",
       "    <tr>\n",
       "      <th>top</th>\n",
       "      <td>NaN</td>\n",
       "      <td>2019-11-25 00:00:00+03:00</td>\n",
       "      <td>out</td>\n",
       "      <td>False</td>\n",
       "      <td>NaN</td>\n",
       "      <td>False</td>\n",
       "      <td>NaN</td>\n",
       "      <td>NaN</td>\n",
       "      <td>NaN</td>\n",
       "    </tr>\n",
       "    <tr>\n",
       "      <th>freq</th>\n",
       "      <td>NaN</td>\n",
       "      <td>1220</td>\n",
       "      <td>31917</td>\n",
       "      <td>47621</td>\n",
       "      <td>NaN</td>\n",
       "      <td>30334</td>\n",
       "      <td>NaN</td>\n",
       "      <td>NaN</td>\n",
       "      <td>NaN</td>\n",
       "    </tr>\n",
       "    <tr>\n",
       "      <th>first</th>\n",
       "      <td>NaN</td>\n",
       "      <td>2019-08-02 00:00:00+03:00</td>\n",
       "      <td>NaN</td>\n",
       "      <td>NaN</td>\n",
       "      <td>NaN</td>\n",
       "      <td>NaN</td>\n",
       "      <td>NaN</td>\n",
       "      <td>NaN</td>\n",
       "      <td>NaN</td>\n",
       "    </tr>\n",
       "    <tr>\n",
       "      <th>last</th>\n",
       "      <td>NaN</td>\n",
       "      <td>2019-11-28 00:00:00+03:00</td>\n",
       "      <td>NaN</td>\n",
       "      <td>NaN</td>\n",
       "      <td>NaN</td>\n",
       "      <td>NaN</td>\n",
       "      <td>NaN</td>\n",
       "      <td>NaN</td>\n",
       "      <td>NaN</td>\n",
       "    </tr>\n",
       "    <tr>\n",
       "      <th>mean</th>\n",
       "      <td>167295.344477</td>\n",
       "      <td>NaN</td>\n",
       "      <td>NaN</td>\n",
       "      <td>NaN</td>\n",
       "      <td>916535.993002</td>\n",
       "      <td>NaN</td>\n",
       "      <td>16.451245</td>\n",
       "      <td>866.684427</td>\n",
       "      <td>1157.133297</td>\n",
       "    </tr>\n",
       "    <tr>\n",
       "      <th>std</th>\n",
       "      <td>598.883775</td>\n",
       "      <td>NaN</td>\n",
       "      <td>NaN</td>\n",
       "      <td>NaN</td>\n",
       "      <td>21254.123136</td>\n",
       "      <td>NaN</td>\n",
       "      <td>62.917170</td>\n",
       "      <td>3731.791202</td>\n",
       "      <td>4403.468763</td>\n",
       "    </tr>\n",
       "    <tr>\n",
       "      <th>min</th>\n",
       "      <td>166377.000000</td>\n",
       "      <td>NaN</td>\n",
       "      <td>NaN</td>\n",
       "      <td>NaN</td>\n",
       "      <td>879896.000000</td>\n",
       "      <td>NaN</td>\n",
       "      <td>1.000000</td>\n",
       "      <td>0.000000</td>\n",
       "      <td>0.000000</td>\n",
       "    </tr>\n",
       "    <tr>\n",
       "      <th>25%</th>\n",
       "      <td>166782.000000</td>\n",
       "      <td>NaN</td>\n",
       "      <td>NaN</td>\n",
       "      <td>NaN</td>\n",
       "      <td>900788.000000</td>\n",
       "      <td>NaN</td>\n",
       "      <td>1.000000</td>\n",
       "      <td>0.000000</td>\n",
       "      <td>47.000000</td>\n",
       "    </tr>\n",
       "    <tr>\n",
       "      <th>50%</th>\n",
       "      <td>167162.000000</td>\n",
       "      <td>NaN</td>\n",
       "      <td>NaN</td>\n",
       "      <td>NaN</td>\n",
       "      <td>913938.000000</td>\n",
       "      <td>NaN</td>\n",
       "      <td>4.000000</td>\n",
       "      <td>38.000000</td>\n",
       "      <td>210.000000</td>\n",
       "    </tr>\n",
       "    <tr>\n",
       "      <th>75%</th>\n",
       "      <td>167819.000000</td>\n",
       "      <td>NaN</td>\n",
       "      <td>NaN</td>\n",
       "      <td>NaN</td>\n",
       "      <td>937708.000000</td>\n",
       "      <td>NaN</td>\n",
       "      <td>12.000000</td>\n",
       "      <td>572.000000</td>\n",
       "      <td>902.000000</td>\n",
       "    </tr>\n",
       "    <tr>\n",
       "      <th>max</th>\n",
       "      <td>168606.000000</td>\n",
       "      <td>NaN</td>\n",
       "      <td>NaN</td>\n",
       "      <td>NaN</td>\n",
       "      <td>973286.000000</td>\n",
       "      <td>NaN</td>\n",
       "      <td>4817.000000</td>\n",
       "      <td>144395.000000</td>\n",
       "      <td>166155.000000</td>\n",
       "    </tr>\n",
       "  </tbody>\n",
       "</table>\n",
       "</div>"
      ],
      "text/plain": [
       "              user_id                       date direction internal  \\\n",
       "count    53902.000000                      53902     53902    53785   \n",
       "unique            NaN                        119         2        2   \n",
       "top               NaN  2019-11-25 00:00:00+03:00       out    False   \n",
       "freq              NaN                       1220     31917    47621   \n",
       "first             NaN  2019-08-02 00:00:00+03:00       NaN      NaN   \n",
       "last              NaN  2019-11-28 00:00:00+03:00       NaN      NaN   \n",
       "mean    167295.344477                        NaN       NaN      NaN   \n",
       "std        598.883775                        NaN       NaN      NaN   \n",
       "min     166377.000000                        NaN       NaN      NaN   \n",
       "25%     166782.000000                        NaN       NaN      NaN   \n",
       "50%     167162.000000                        NaN       NaN      NaN   \n",
       "75%     167819.000000                        NaN       NaN      NaN   \n",
       "max     168606.000000                        NaN       NaN      NaN   \n",
       "\n",
       "          operator_id is_missed_call   calls_count  call_duration  \\\n",
       "count    45730.000000          53902  53902.000000   53902.000000   \n",
       "unique            NaN              2           NaN            NaN   \n",
       "top               NaN          False           NaN            NaN   \n",
       "freq              NaN          30334           NaN            NaN   \n",
       "first             NaN            NaN           NaN            NaN   \n",
       "last              NaN            NaN           NaN            NaN   \n",
       "mean    916535.993002            NaN     16.451245     866.684427   \n",
       "std      21254.123136            NaN     62.917170    3731.791202   \n",
       "min     879896.000000            NaN      1.000000       0.000000   \n",
       "25%     900788.000000            NaN      1.000000       0.000000   \n",
       "50%     913938.000000            NaN      4.000000      38.000000   \n",
       "75%     937708.000000            NaN     12.000000     572.000000   \n",
       "max     973286.000000            NaN   4817.000000  144395.000000   \n",
       "\n",
       "        total_call_duration  \n",
       "count          53902.000000  \n",
       "unique                  NaN  \n",
       "top                     NaN  \n",
       "freq                    NaN  \n",
       "first                   NaN  \n",
       "last                    NaN  \n",
       "mean            1157.133297  \n",
       "std             4403.468763  \n",
       "min                0.000000  \n",
       "25%               47.000000  \n",
       "50%              210.000000  \n",
       "75%              902.000000  \n",
       "max           166155.000000  "
      ]
     },
     "execution_count": 11,
     "metadata": {},
     "output_type": "execute_result"
    }
   ],
   "source": [
    "dataset.describe(include='all')"
   ]
  },
  {
   "cell_type": "markdown",
   "metadata": {},
   "source": [
    "In dataset we have 53902 rows of data from 2019 08/02-11/28 that is allmost 4 months "
   ]
  },
  {
   "cell_type": "markdown",
   "metadata": {},
   "source": [
    "## 2. Cleaning the data\n",
    "<a class=\"anchor\" id=\"chapter2\"></a>"
   ]
  },
  {
   "cell_type": "markdown",
   "metadata": {},
   "source": [
    "### Cheking for missing values\n",
    "<a class=\"anchor\" id=\"section_2_1\"></a>"
   ]
  },
  {
   "cell_type": "markdown",
   "metadata": {},
   "source": [
    "Here i think i see a pattern that i just want to look at. i wounder if there is a corralation between the missing values in the \"operator_id\" columns and to other columns."
   ]
  },
  {
   "cell_type": "code",
   "execution_count": 12,
   "metadata": {},
   "outputs": [
    {
     "name": "stdout",
     "output_type": "stream",
     "text": [
      "Out of the 8172 missing values in the \"operator_id\" column:    \n",
      "In 92.22% of them the call was unanswered, was incoming and was internal.    \n",
      "\n"
     ]
    }
   ],
   "source": [
    "# number of rows with missing value in the operator_id column\n",
    "x= len(dataset[dataset['operator_id'].isnull()])\n",
    "\n",
    "\n",
    "y= len(dataset[(dataset['operator_id'].isnull())& (dataset['direction']=='in') & (dataset['internal']==False)& (dataset['is_missed_call']==True)])\n",
    "\n",
    "y3 = len(dataset[(dataset['direction']=='in') & (dataset['internal']==False)& (dataset['is_missed_call']==True)])\n",
    "\n",
    "print(\n",
    "    'Out of the {} missing values in the \"operator_id\" column:\\\n",
    "    \\nIn {:.2%} of them the call was unanswered, was incoming and was internal.\\\n",
    "    \\n'.format(\n",
    "        x,y/x))"
   ]
  },
  {
   "cell_type": "markdown",
   "metadata": {},
   "source": [
    "<span style=\"background-color:Lavender\">**An important note** </span>\n",
    "\n",
    "<span style=\"background-color:Lavender\">most cases of missing values in the \"operator_id\" column seem to have a correspondens with three other columns:  'direction', 'internal' and 'is_missed_call'. This is something worth noting in the conclution.</span>\n",
    "\n",
    "<span style=\"background-color:Lavender\">Back to our missing values:</span>"
   ]
  },
  {
   "cell_type": "markdown",
   "metadata": {},
   "source": [
    "<span style=\"background-color:Lavender\">In the 'info' method i saw that we have missing values. I will print out the rows with missing values along the rows before and after them. We might have rows with missing values that are just duplictes of the row before or after them.</span>"
   ]
  },
  {
   "cell_type": "code",
   "execution_count": 13,
   "metadata": {},
   "outputs": [
    {
     "data": {
      "text/plain": [
       "24695"
      ]
     },
     "execution_count": 13,
     "metadata": {},
     "output_type": "execute_result"
    }
   ],
   "source": [
    "# Getting the indexes of the missing values\n",
    "index = (dataset[(dataset['operator_id'].isnull()) | (dataset['internal'].isnull())].index).tolist()\n",
    "\n",
    "# getting the index before and after each missing value\n",
    "index_before = [n-1 for n in index if n != 0]\n",
    "index_after =  [n+1 for n in index]\n",
    "\n",
    "# adding indexes together \n",
    "all_index = index + index_before + index_after\n",
    "len(all_index)"
   ]
  },
  {
   "cell_type": "code",
   "execution_count": 14,
   "metadata": {},
   "outputs": [
    {
     "name": "stdout",
     "output_type": "stream",
     "text": [
      "<class 'pandas.core.frame.DataFrame'>\n",
      "Int64Index: 2268 entries, 6 to 53875\n",
      "Data columns (total 9 columns):\n",
      " #   Column               Non-Null Count  Dtype                                \n",
      "---  ------               --------------  -----                                \n",
      " 0   user_id              2268 non-null   int64                                \n",
      " 1   date                 2268 non-null   datetime64[ns, pytz.FixedOffset(180)]\n",
      " 2   direction            2268 non-null   object                               \n",
      " 3   internal             2254 non-null   object                               \n",
      " 4   operator_id          813 non-null    float64                              \n",
      " 5   is_missed_call       2268 non-null   bool                                 \n",
      " 6   calls_count          2268 non-null   int64                                \n",
      " 7   call_duration        2268 non-null   int64                                \n",
      " 8   total_call_duration  2268 non-null   int64                                \n",
      "dtypes: bool(1), datetime64[ns, pytz.FixedOffset(180)](1), float64(1), int64(4), object(2)\n",
      "memory usage: 161.7+ KB\n"
     ]
    }
   ],
   "source": [
    "dataset_missing = dataset[dataset.index.isin(all_index)]\n",
    "missing_duplicated = dataset_missing[dataset_missing.duplicated(['calls_count','user_id','total_call_duration','date','total_call_duration'],keep=False)]\n",
    "missing_duplicated.info()"
   ]
  },
  {
   "cell_type": "code",
   "execution_count": 15,
   "metadata": {},
   "outputs": [
    {
     "data": {
      "text/html": [
       "<div>\n",
       "<style scoped>\n",
       "    .dataframe tbody tr th:only-of-type {\n",
       "        vertical-align: middle;\n",
       "    }\n",
       "\n",
       "    .dataframe tbody tr th {\n",
       "        vertical-align: top;\n",
       "    }\n",
       "\n",
       "    .dataframe thead th {\n",
       "        text-align: right;\n",
       "    }\n",
       "</style>\n",
       "<table border=\"1\" class=\"dataframe\">\n",
       "  <thead>\n",
       "    <tr style=\"text-align: right;\">\n",
       "      <th></th>\n",
       "      <th>user_id</th>\n",
       "      <th>date</th>\n",
       "      <th>direction</th>\n",
       "      <th>internal</th>\n",
       "      <th>operator_id</th>\n",
       "      <th>is_missed_call</th>\n",
       "      <th>calls_count</th>\n",
       "      <th>call_duration</th>\n",
       "      <th>total_call_duration</th>\n",
       "    </tr>\n",
       "  </thead>\n",
       "  <tbody>\n",
       "    <tr>\n",
       "      <th>6</th>\n",
       "      <td>166377</td>\n",
       "      <td>2019-08-05 00:00:00+03:00</td>\n",
       "      <td>out</td>\n",
       "      <td>False</td>\n",
       "      <td>880020.0</td>\n",
       "      <td>True</td>\n",
       "      <td>8</td>\n",
       "      <td>0</td>\n",
       "      <td>50</td>\n",
       "    </tr>\n",
       "    <tr>\n",
       "      <th>8</th>\n",
       "      <td>166377</td>\n",
       "      <td>2019-08-05 00:00:00+03:00</td>\n",
       "      <td>out</td>\n",
       "      <td>False</td>\n",
       "      <td>880020.0</td>\n",
       "      <td>True</td>\n",
       "      <td>8</td>\n",
       "      <td>0</td>\n",
       "      <td>50</td>\n",
       "    </tr>\n",
       "    <tr>\n",
       "      <th>27</th>\n",
       "      <td>166377</td>\n",
       "      <td>2019-08-12 00:00:00+03:00</td>\n",
       "      <td>in</td>\n",
       "      <td>False</td>\n",
       "      <td>NaN</td>\n",
       "      <td>True</td>\n",
       "      <td>2</td>\n",
       "      <td>0</td>\n",
       "      <td>34</td>\n",
       "    </tr>\n",
       "    <tr>\n",
       "      <th>28</th>\n",
       "      <td>166377</td>\n",
       "      <td>2019-08-12 00:00:00+03:00</td>\n",
       "      <td>in</td>\n",
       "      <td>False</td>\n",
       "      <td>NaN</td>\n",
       "      <td>True</td>\n",
       "      <td>2</td>\n",
       "      <td>0</td>\n",
       "      <td>34</td>\n",
       "    </tr>\n",
       "    <tr>\n",
       "      <th>38</th>\n",
       "      <td>166377</td>\n",
       "      <td>2019-08-14 00:00:00+03:00</td>\n",
       "      <td>in</td>\n",
       "      <td>False</td>\n",
       "      <td>NaN</td>\n",
       "      <td>True</td>\n",
       "      <td>1</td>\n",
       "      <td>0</td>\n",
       "      <td>3</td>\n",
       "    </tr>\n",
       "  </tbody>\n",
       "</table>\n",
       "</div>"
      ],
      "text/plain": [
       "    user_id                      date direction internal  operator_id  \\\n",
       "6    166377 2019-08-05 00:00:00+03:00       out    False     880020.0   \n",
       "8    166377 2019-08-05 00:00:00+03:00       out    False     880020.0   \n",
       "27   166377 2019-08-12 00:00:00+03:00        in    False          NaN   \n",
       "28   166377 2019-08-12 00:00:00+03:00        in    False          NaN   \n",
       "38   166377 2019-08-14 00:00:00+03:00        in    False          NaN   \n",
       "\n",
       "    is_missed_call  calls_count  call_duration  total_call_duration  \n",
       "6             True            8              0                   50  \n",
       "8             True            8              0                   50  \n",
       "27            True            2              0                   34  \n",
       "28            True            2              0                   34  \n",
       "38            True            1              0                    3  "
      ]
     },
     "execution_count": 15,
     "metadata": {},
     "output_type": "execute_result"
    }
   ],
   "source": [
    "missing_duplicates = dataset_missing[dataset_missing.duplicated(['user_id',\n",
    "                            'date','direction','is_missed_call',\n",
    "                            'calls_count','call_duration','total_call_duration'],keep= False)]\n",
    "missing_duplicates.head()"
   ]
  },
  {
   "cell_type": "code",
   "execution_count": 16,
   "metadata": {},
   "outputs": [
    {
     "name": "stdout",
     "output_type": "stream",
     "text": [
      "number of rows with missing values in \"operator_id\": 8172\n",
      "number of rows with missing values in \"internal\": 117\n"
     ]
    }
   ],
   "source": [
    "print('number of rows with missing values in \"operator_id\": {}'.format(len(dataset[dataset['operator_id'].isnull()])))\n",
    "print('number of rows with missing values in \"internal\": {}'.format(len(dataset[dataset['internal'].isnull()])))"
   ]
  },
  {
   "cell_type": "code",
   "execution_count": 17,
   "metadata": {},
   "outputs": [
    {
     "name": "stdout",
     "output_type": "stream",
     "text": [
      "Number of duplicate rows that have missing values in them: 1432\n"
     ]
    }
   ],
   "source": [
    "# duplicates in the dataframe\n",
    "dup=dataset[dataset.duplicated(keep=False)]\n",
    "\n",
    "print('Number of duplicate rows that have missing values in them: {}'.format(len(dup[dup['operator_id'].isnull()])))"
   ]
  },
  {
   "cell_type": "markdown",
   "metadata": {},
   "source": [
    "<span style=\"background-color:Lavender\">\n",
    "Becouse i have many missing values and many duplicates with missing values, I will first drop the duplicates  give priority and keep the ones without the missing values.</span>"
   ]
  },
  {
   "cell_type": "markdown",
   "metadata": {},
   "source": [
    "### Checking for dupicates\n",
    "<a class=\"anchor\" id=\"section_2_2\"></a>"
   ]
  },
  {
   "cell_type": "code",
   "execution_count": 18,
   "metadata": {},
   "outputs": [
    {
     "data": {
      "text/html": [
       "<div>\n",
       "<style scoped>\n",
       "    .dataframe tbody tr th:only-of-type {\n",
       "        vertical-align: middle;\n",
       "    }\n",
       "\n",
       "    .dataframe tbody tr th {\n",
       "        vertical-align: top;\n",
       "    }\n",
       "\n",
       "    .dataframe thead th {\n",
       "        text-align: right;\n",
       "    }\n",
       "</style>\n",
       "<table border=\"1\" class=\"dataframe\">\n",
       "  <thead>\n",
       "    <tr style=\"text-align: right;\">\n",
       "      <th></th>\n",
       "      <th>user_id</th>\n",
       "      <th>tariff_plan</th>\n",
       "      <th>date_start</th>\n",
       "    </tr>\n",
       "  </thead>\n",
       "  <tbody>\n",
       "  </tbody>\n",
       "</table>\n",
       "</div>"
      ],
      "text/plain": [
       "Empty DataFrame\n",
       "Columns: [user_id, tariff_plan, date_start]\n",
       "Index: []"
      ]
     },
     "execution_count": 18,
     "metadata": {},
     "output_type": "execute_result"
    }
   ],
   "source": [
    "clients[clients.duplicated(['user_id','tariff_plan','date_start'],keep=False)] "
   ]
  },
  {
   "cell_type": "markdown",
   "metadata": {},
   "source": [
    "The clients data has no missing of duplicate data."
   ]
  },
  {
   "cell_type": "code",
   "execution_count": 19,
   "metadata": {},
   "outputs": [
    {
     "data": {
      "text/plain": [
       "10062"
      ]
     },
     "execution_count": 19,
     "metadata": {},
     "output_type": "execute_result"
    }
   ],
   "source": [
    "duplicated= dataset[dataset.duplicated(['user_id','date','direction','is_missed_call','calls_count','call_duration','total_call_duration'],keep=False)] \n",
    "len(duplicated)"
   ]
  },
  {
   "cell_type": "code",
   "execution_count": 20,
   "metadata": {
    "scrolled": true
   },
   "outputs": [
    {
     "name": "stdout",
     "output_type": "stream",
     "text": [
      "<class 'pandas.core.frame.DataFrame'>\n",
      "RangeIndex: 49002 entries, 0 to 49001\n",
      "Data columns (total 9 columns):\n",
      " #   Column               Non-Null Count  Dtype                                \n",
      "---  ------               --------------  -----                                \n",
      " 0   user_id              49002 non-null  int64                                \n",
      " 1   date                 49002 non-null  datetime64[ns, pytz.FixedOffset(180)]\n",
      " 2   direction            49002 non-null  object                               \n",
      " 3   internal             48892 non-null  object                               \n",
      " 4   operator_id          41546 non-null  float64                              \n",
      " 5   is_missed_call       49002 non-null  bool                                 \n",
      " 6   calls_count          49002 non-null  int64                                \n",
      " 7   call_duration        49002 non-null  int64                                \n",
      " 8   total_call_duration  49002 non-null  int64                                \n",
      "dtypes: bool(1), datetime64[ns, pytz.FixedOffset(180)](1), float64(1), int64(4), object(2)\n",
      "memory usage: 3.0+ MB\n"
     ]
    }
   ],
   "source": [
    "# I will sort values by columns with missing values so the missing values will be in the end then drop duplicated\n",
    "\n",
    "data_clean = dataset.sort_values(by=[\n",
    "    'internal','operator_id'],na_position='last').drop_duplicates(\n",
    "    keep='first').sort_index().reset_index(drop=True)\n",
    "\n",
    "data_clean.info()"
   ]
  },
  {
   "cell_type": "code",
   "execution_count": 21,
   "metadata": {},
   "outputs": [
    {
     "name": "stdout",
     "output_type": "stream",
     "text": [
      "% of missing values in internal column: 0.22%\n"
     ]
    }
   ],
   "source": [
    "\n",
    "# calculating the % of missing values in the column\n",
    "missing_internal = len(data_clean[data_clean['internal'].isnull()])\n",
    "print('% of missing values in internal column: {:.2%}'.format(missing_internal/len(data_clean)))"
   ]
  },
  {
   "cell_type": "markdown",
   "metadata": {},
   "source": [
    "<span style=\"background-color:Lavender\">We have 0.22% missing in the \"internal\" column, that is very low, there is no real way to replace these values so i will drop them.  "
   ]
  },
  {
   "cell_type": "code",
   "execution_count": 22,
   "metadata": {},
   "outputs": [
    {
     "name": "stdout",
     "output_type": "stream",
     "text": [
      "<class 'pandas.core.frame.DataFrame'>\n",
      "RangeIndex: 48892 entries, 0 to 48891\n",
      "Data columns (total 9 columns):\n",
      " #   Column               Non-Null Count  Dtype                                \n",
      "---  ------               --------------  -----                                \n",
      " 0   user_id              48892 non-null  int64                                \n",
      " 1   date                 48892 non-null  datetime64[ns, pytz.FixedOffset(180)]\n",
      " 2   direction            48892 non-null  object                               \n",
      " 3   internal             48892 non-null  object                               \n",
      " 4   operator_id          41491 non-null  float64                              \n",
      " 5   is_missed_call       48892 non-null  bool                                 \n",
      " 6   calls_count          48892 non-null  int64                                \n",
      " 7   call_duration        48892 non-null  int64                                \n",
      " 8   total_call_duration  48892 non-null  int64                                \n",
      "dtypes: bool(1), datetime64[ns, pytz.FixedOffset(180)](1), float64(1), int64(4), object(2)\n",
      "memory usage: 3.0+ MB\n"
     ]
    }
   ],
   "source": [
    "data_clean= data_clean.dropna(subset=['internal']).reset_index(drop=True)\n",
    "data_clean.info()"
   ]
  },
  {
   "cell_type": "code",
   "execution_count": 23,
   "metadata": {},
   "outputs": [
    {
     "name": "stdout",
     "output_type": "stream",
     "text": [
      "Number of unique users: 732\n",
      "Number of users in each tariff plan: \n",
      "C    395\n",
      "B    261\n",
      "A     76\n",
      "Name: tariff_plan, dtype: int64\n"
     ]
    }
   ],
   "source": [
    "print('Number of unique users: {}'.format(clients['user_id'].nunique()))\n",
    "print('Number of users in each tariff plan: \\n{}'.format(clients['tariff_plan'].value_counts()))"
   ]
  },
  {
   "cell_type": "code",
   "execution_count": 24,
   "metadata": {},
   "outputs": [
    {
     "name": "stdout",
     "output_type": "stream",
     "text": [
      "% of missing values in operator_id column: 15.14%\n",
      "Number of unique operator_ids: 1092\n"
     ]
    }
   ],
   "source": [
    "# calculating the % of missing values in the column\n",
    "missing_operator = len(data_clean[data_clean['operator_id'].isnull()])\n",
    "\n",
    "print('% of missing values in operator_id column: {:.2%}'.format(missing_operator/len(data_clean)))\n",
    "print('Number of unique operator_ids: {}'.format(data_clean['operator_id'].nunique()))"
   ]
  },
  {
   "cell_type": "markdown",
   "metadata": {},
   "source": [
    "<span style=\"background-color:Lavender\">15.14% of data is missing. For now i can continue with the missing values, there is no way to fill those values. I'll see what to do about them later when it will be more relavent.\n"
   ]
  },
  {
   "cell_type": "markdown",
   "metadata": {},
   "source": [
    "### Adding columns Joining data\n",
    "<a class=\"anchor\" id=\"section_2_3\"></a>"
   ]
  },
  {
   "cell_type": "code",
   "execution_count": 25,
   "metadata": {},
   "outputs": [
    {
     "data": {
      "text/html": [
       "<div>\n",
       "<style scoped>\n",
       "    .dataframe tbody tr th:only-of-type {\n",
       "        vertical-align: middle;\n",
       "    }\n",
       "\n",
       "    .dataframe tbody tr th {\n",
       "        vertical-align: top;\n",
       "    }\n",
       "\n",
       "    .dataframe thead th {\n",
       "        text-align: right;\n",
       "    }\n",
       "</style>\n",
       "<table border=\"1\" class=\"dataframe\">\n",
       "  <thead>\n",
       "    <tr style=\"text-align: right;\">\n",
       "      <th></th>\n",
       "      <th>user_id</th>\n",
       "      <th>date</th>\n",
       "      <th>direction</th>\n",
       "      <th>internal</th>\n",
       "      <th>operator_id</th>\n",
       "      <th>is_missed_call</th>\n",
       "      <th>calls_count</th>\n",
       "      <th>call_duration</th>\n",
       "      <th>total_call_duration</th>\n",
       "      <th>day</th>\n",
       "      <th>tariff_plan</th>\n",
       "      <th>date_start</th>\n",
       "    </tr>\n",
       "  </thead>\n",
       "  <tbody>\n",
       "    <tr>\n",
       "      <th>0</th>\n",
       "      <td>166377</td>\n",
       "      <td>2019-08-04</td>\n",
       "      <td>in</td>\n",
       "      <td>False</td>\n",
       "      <td>NaN</td>\n",
       "      <td>True</td>\n",
       "      <td>2</td>\n",
       "      <td>0</td>\n",
       "      <td>4</td>\n",
       "      <td>6</td>\n",
       "      <td>B</td>\n",
       "      <td>2019-08-01</td>\n",
       "    </tr>\n",
       "    <tr>\n",
       "      <th>1</th>\n",
       "      <td>166377</td>\n",
       "      <td>2019-08-05</td>\n",
       "      <td>out</td>\n",
       "      <td>True</td>\n",
       "      <td>880022.0</td>\n",
       "      <td>True</td>\n",
       "      <td>3</td>\n",
       "      <td>0</td>\n",
       "      <td>5</td>\n",
       "      <td>0</td>\n",
       "      <td>B</td>\n",
       "      <td>2019-08-01</td>\n",
       "    </tr>\n",
       "    <tr>\n",
       "      <th>2</th>\n",
       "      <td>166377</td>\n",
       "      <td>2019-08-05</td>\n",
       "      <td>out</td>\n",
       "      <td>True</td>\n",
       "      <td>880020.0</td>\n",
       "      <td>True</td>\n",
       "      <td>1</td>\n",
       "      <td>0</td>\n",
       "      <td>1</td>\n",
       "      <td>0</td>\n",
       "      <td>B</td>\n",
       "      <td>2019-08-01</td>\n",
       "    </tr>\n",
       "    <tr>\n",
       "      <th>3</th>\n",
       "      <td>166377</td>\n",
       "      <td>2019-08-05</td>\n",
       "      <td>out</td>\n",
       "      <td>True</td>\n",
       "      <td>880020.0</td>\n",
       "      <td>False</td>\n",
       "      <td>1</td>\n",
       "      <td>10</td>\n",
       "      <td>18</td>\n",
       "      <td>0</td>\n",
       "      <td>B</td>\n",
       "      <td>2019-08-01</td>\n",
       "    </tr>\n",
       "    <tr>\n",
       "      <th>4</th>\n",
       "      <td>166377</td>\n",
       "      <td>2019-08-05</td>\n",
       "      <td>out</td>\n",
       "      <td>False</td>\n",
       "      <td>880022.0</td>\n",
       "      <td>True</td>\n",
       "      <td>3</td>\n",
       "      <td>0</td>\n",
       "      <td>25</td>\n",
       "      <td>0</td>\n",
       "      <td>B</td>\n",
       "      <td>2019-08-01</td>\n",
       "    </tr>\n",
       "  </tbody>\n",
       "</table>\n",
       "</div>"
      ],
      "text/plain": [
       "   user_id        date direction internal  operator_id  is_missed_call  \\\n",
       "0   166377  2019-08-04        in    False          NaN            True   \n",
       "1   166377  2019-08-05       out     True     880022.0            True   \n",
       "2   166377  2019-08-05       out     True     880020.0            True   \n",
       "3   166377  2019-08-05       out     True     880020.0           False   \n",
       "4   166377  2019-08-05       out    False     880022.0            True   \n",
       "\n",
       "   calls_count  call_duration  total_call_duration  day tariff_plan date_start  \n",
       "0            2              0                    4    6           B 2019-08-01  \n",
       "1            3              0                    5    0           B 2019-08-01  \n",
       "2            1              0                    1    0           B 2019-08-01  \n",
       "3            1             10                   18    0           B 2019-08-01  \n",
       "4            3              0                   25    0           B 2019-08-01  "
      ]
     },
     "execution_count": 25,
     "metadata": {},
     "output_type": "execute_result"
    }
   ],
   "source": [
    "# adding a column with day of the week\n",
    "\n",
    "data_clean['day']= data_clean['date'].dt.dayofweek\n",
    "\n",
    "\n",
    "# Cleaning the date column\n",
    "data_clean['date']= data_clean['date'].dt.date\n",
    "\n",
    "\n",
    "# Merging the two data frammes\n",
    "data_merge = pd.merge(data_clean,clients,on='user_id',how='left')\n",
    "data_merge.head()"
   ]
  },
  {
   "cell_type": "markdown",
   "metadata": {},
   "source": [
    "## 3. Studying the general data and plotting graphs\n",
    "<a class=\"anchor\" id=\"chapter3\"></a>"
   ]
  },
  {
   "cell_type": "code",
   "execution_count": 26,
   "metadata": {},
   "outputs": [
    {
     "name": "stdout",
     "output_type": "stream",
     "text": [
      "Total number of calls: 806484\n",
      "Total number of users: 307\n"
     ]
    }
   ],
   "source": [
    "# total number of calls\n",
    "print('Total number of calls: {}'.format(data_merge['calls_count'].sum()))\n",
    "\n",
    "# Number of users\n",
    "print('Total number of users: {}'.format(data_merge['user_id'].nunique()))"
   ]
  },
  {
   "cell_type": "code",
   "execution_count": 27,
   "metadata": {
    "scrolled": true
   },
   "outputs": [
    {
     "data": {
      "text/html": [
       "<div>\n",
       "<style scoped>\n",
       "    .dataframe tbody tr th:only-of-type {\n",
       "        vertical-align: middle;\n",
       "    }\n",
       "\n",
       "    .dataframe tbody tr th {\n",
       "        vertical-align: top;\n",
       "    }\n",
       "\n",
       "    .dataframe thead th {\n",
       "        text-align: right;\n",
       "    }\n",
       "</style>\n",
       "<table border=\"1\" class=\"dataframe\">\n",
       "  <thead>\n",
       "    <tr style=\"text-align: right;\">\n",
       "      <th></th>\n",
       "      <th>date</th>\n",
       "      <th>day</th>\n",
       "      <th>calls_count</th>\n",
       "    </tr>\n",
       "  </thead>\n",
       "  <tbody>\n",
       "    <tr>\n",
       "      <th>0</th>\n",
       "      <td>2019-08-02</td>\n",
       "      <td>4</td>\n",
       "      <td>21</td>\n",
       "    </tr>\n",
       "    <tr>\n",
       "      <th>1</th>\n",
       "      <td>2019-08-03</td>\n",
       "      <td>5</td>\n",
       "      <td>29</td>\n",
       "    </tr>\n",
       "    <tr>\n",
       "      <th>2</th>\n",
       "      <td>2019-08-04</td>\n",
       "      <td>6</td>\n",
       "      <td>6</td>\n",
       "    </tr>\n",
       "    <tr>\n",
       "      <th>3</th>\n",
       "      <td>2019-08-05</td>\n",
       "      <td>0</td>\n",
       "      <td>192</td>\n",
       "    </tr>\n",
       "    <tr>\n",
       "      <th>4</th>\n",
       "      <td>2019-08-06</td>\n",
       "      <td>1</td>\n",
       "      <td>229</td>\n",
       "    </tr>\n",
       "  </tbody>\n",
       "</table>\n",
       "</div>"
      ],
      "text/plain": [
       "         date  day  calls_count\n",
       "0  2019-08-02    4           21\n",
       "1  2019-08-03    5           29\n",
       "2  2019-08-04    6            6\n",
       "3  2019-08-05    0          192\n",
       "4  2019-08-06    1          229"
      ]
     },
     "execution_count": 27,
     "metadata": {},
     "output_type": "execute_result"
    }
   ],
   "source": [
    "data_merge_grouped = data_merge.groupby(['date','day'],as_index=False)['calls_count'].sum()\n",
    "\n",
    "data_merge_grouped.head()"
   ]
  },
  {
   "cell_type": "markdown",
   "metadata": {},
   "source": [
    "### Daily number of calls\n",
    "<a class=\"anchor\" id=\"section_3_1\"></a>"
   ]
  },
  {
   "cell_type": "code",
   "execution_count": 28,
   "metadata": {
    "scrolled": false
   },
   "outputs": [
    {
     "data": {
      "image/png": "[encoded data removed]",
      "text/plain": [
       "<Figure size 1440x576 with 1 Axes>"
      ]
     },
     "metadata": {
      "needs_background": "light"
     },
     "output_type": "display_data"
    }
   ],
   "source": [
    "# Plotting the daily number of calls\n",
    "\n",
    "fig, ax = plt.subplots(figsize=(20,8))\n",
    "ax.plot('date', 'calls_count', data=data_merge_grouped)\n",
    "\n",
    "plt.title('Number of daily calls', fontsize = 20)\n",
    "plt.xlabel('Date')\n",
    "plt.ylabel('Number of calls')\n",
    "\n",
    "fmt_half_year = mdates.DayLocator(interval=7)\n",
    "ax.xaxis.set_major_locator(fmt_half_year)\n",
    "\n",
    "ax.xaxis.set_major_formatter(mdates.DateFormatter('%m-%d'))\n",
    "\n",
    "\n",
    "plt.show()\n"
   ]
  },
  {
   "cell_type": "markdown",
   "metadata": {},
   "source": [
    "<span style=\"background-color:Lavender\">We can see in the graph above that the number of calls is on a steady increase with weekly cycles."
   ]
  },
  {
   "cell_type": "markdown",
   "metadata": {},
   "source": [
    "### Call duration excluding waiting time\n",
    "<a class=\"anchor\" id=\"section_3_2\"></a>"
   ]
  },
  {
   "cell_type": "code",
   "execution_count": 29,
   "metadata": {},
   "outputs": [
    {
     "data": {
      "image/png": "[encoded data removed]",
      "text/plain": [
       "<Figure size 1440x576 with 1 Axes>"
      ]
     },
     "metadata": {
      "needs_background": "light"
     },
     "output_type": "display_data"
    }
   ],
   "source": [
    "# Plotting call durations excluding waiting time and unanswered calls\n",
    "\n",
    "data_calls = data_clean[data_clean['call_duration']>0] # excluds the call duration of 0 (unanswered)\n",
    "\n",
    "plt.figure(figsize=(20,8))\n",
    "plt.hist(data_calls.call_duration, color='c',bins = 30,range=(0,6000),label='Data')\n",
    "plt.axvline(data_calls.call_duration.mean(), color='k', linestyle='dashed',label='Average')\n",
    "plt.axvline(data_calls.call_duration.median(), color='r', linestyle='dashed',label='Median')\n",
    "\n",
    "plt.title ('Call durations (excluding waiting time)',fontsize= 20)\n",
    "plt.xlabel('Duration in sec')\n",
    "plt.ylabel('nNumber of calls')\n",
    "plt.legend()\n",
    "plt.show()"
   ]
  },
  {
   "cell_type": "markdown",
   "metadata": {},
   "source": [
    "<span style=\"background-color:Lavender\">In this graph we can see that when it cames to call duration we have a lot of outliers, we have a long tail. The difference between the mean and median tells us that the data is left heavy, We have most of the calls that are short (shorter than the mean) but we have some very very lonf calls that push our mean to the right and make it higher."
   ]
  },
  {
   "cell_type": "markdown",
   "metadata": {},
   "source": [
    "###  Waiting time for a call\n",
    "<a class=\"anchor\" id=\"section_3_3\"></a>"
   ]
  },
  {
   "cell_type": "code",
   "execution_count": 30,
   "metadata": {},
   "outputs": [
    {
     "data": {
      "image/png": "[encoded data removed]",
      "text/plain": [
       "<Figure size 1440x720 with 4 Axes>"
      ]
     },
     "metadata": {
      "needs_background": "light"
     },
     "output_type": "display_data"
    },
    {
     "name": "stdout",
     "output_type": "stream",
     "text": [
      "The total number of answered calls is: 27773\n",
      "The total number of unanswered calls is: 21119\n"
     ]
    }
   ],
   "source": [
    "# First thing we need to add a column with the waiting time\n",
    "\n",
    "data_merge['waiting_time']= data_merge['total_call_duration'] - data_merge['call_duration']\n",
    "\n",
    "# Now i will plot two graphs, the waiting time for unanswered calls and the waiting time for the answered calls\n",
    "\n",
    "data_unanswered = data_merge[data_merge['call_duration'] == 0] # data for unanswered calls\n",
    "\n",
    "data_answered = data_merge[data_merge['call_duration'] != 0]\n",
    "\n",
    "plt.figure(figsize = [20, 10])\n",
    "\n",
    "# unanswered hist\n",
    "ax1= plt.subplot(2, 2, 1)\n",
    "plt.hist( data_unanswered.waiting_time, color='b',bins = 30,range=(0,1500),label='Data')\n",
    "plt.title('Waiting time Unanswered',fontsize= 15)\n",
    "plt.ylabel('Number of calls')\n",
    "plt.axvline(data_unanswered.waiting_time.mean(), color='k', linestyle='dashed',label='Average')\n",
    "plt.axvline(data_unanswered.waiting_time.median(), color='r', linestyle='dashed',label='Median')\n",
    "plt.legend()\n",
    "\n",
    "# unanswered hist with range\n",
    "ax3= plt.subplot(2, 2, 3)\n",
    "plt.hist( data_unanswered.waiting_time, color='b',bins = 30,range=(0,300),label='Data')\n",
    "plt.title('Unanswered (showing up to 300)',fontsize= 15)\n",
    "plt.xlabel('waiting time')\n",
    "plt.ylabel('Number of calls')\n",
    "\n",
    "\n",
    "# answered hist \n",
    "ax2= plt.subplot(2, 2, 2, sharey = ax1)\n",
    "plt.title('Waiting time Answered',fontsize= 15)\n",
    "plt.hist( data_answered.waiting_time, color='c',bins = 30,range=(0,1500),label='Data')\n",
    "plt.axvline(data_answered.waiting_time.mean(), color='k', linestyle='dashed',label='Average')\n",
    "plt.axvline(data_answered.waiting_time.median(), color='r', linestyle='dashed',label='Median')\n",
    "\n",
    "plt.legend()\n",
    "\n",
    "# answered hist with range\n",
    "ax4= plt.subplot(2, 2, 4, sharey = ax3)\n",
    "plt.title('Answered (showing up to 300)',fontsize= 15)\n",
    "plt.xlabel('waiting time')\n",
    "plt.hist( data_answered.waiting_time, color='c',bins = 30,range=(0,300),label='Data')\n",
    "\n",
    "\n",
    "plt.show()\n",
    "\n",
    "print('The total number of answered calls is: {}'.format(data_answered['calls_count'].count()))\n",
    "print('The total number of unanswered calls is: {}'.format(data_unanswered['calls_count'].count()))\n",
    "\n"
   ]
  },
  {
   "cell_type": "markdown",
   "metadata": {},
   "source": [
    "<span style=\"background-color:Lavender\">We can see that for answered and unanswered calls we have a very similar median but for the unanswered calls the mean is higher which means that there are more high outliers. On a whole we can see that most calls are either answered wiithin a few minuts or the call is terminated without an answers within a few minuts. there are more answered calls within the 0-150 range after that it is more of less even between answered and un answered."
   ]
  },
  {
   "cell_type": "markdown",
   "metadata": {},
   "source": [
    "### Number of operators and answered vs unanswered calls \n",
    "<a class=\"anchor\" id=\"section_3_4\"></a>\n",
    "<span style=\"background-color:Lavender\">At this point we need to think again about the missing values in the 'operator_id'. Bcause there is no new information to help us fill those values I will remove them before continuing to plot graphs for answered vs. unanswered calls."
   ]
  },
  {
   "cell_type": "code",
   "execution_count": 31,
   "metadata": {},
   "outputs": [
    {
     "data": {
      "image/png": "[encoded data removed]",
      "text/plain": [
       "<Figure size 1440x1440 with 3 Axes>"
      ]
     },
     "metadata": {
      "needs_background": "light"
     },
     "output_type": "display_data"
    }
   ],
   "source": [
    "# removing missing values from operator_id\n",
    "data_no_missing = data_merge.dropna(subset=['operator_id'])\n",
    "\n",
    "# First we need to separate the incoming calls \n",
    "incoming = data_no_missing[data_no_missing['direction']=='in']\n",
    "\n",
    "\n",
    "# preparing for % stackt bar graph incomming\n",
    "total_calls = incoming.groupby(['date'])['calls_count'].sum().reset_index()\n",
    "answered = incoming[incoming.is_missed_call==False].groupby(['date'])['calls_count'].sum().reset_index()\n",
    "answered['calls_count']= [i / j * 100 for i,j in zip(answered['calls_count'], total_calls['calls_count'])]\n",
    "total_calls['calls_count'] = [i / j * 100 for i,j in zip(total_calls['calls_count'], total_calls['calls_count'])]\n",
    "\n",
    "# outgoing\n",
    "out_going = data_no_missing[data_no_missing['direction']=='out']\n",
    "\n",
    "# preparing for % stackt bar graph out going\n",
    "total_calls_out = out_going.groupby(['date'])['calls_count'].sum().reset_index()\n",
    "answered_out = out_going[out_going.is_missed_call==False].groupby(['date'])['calls_count'].sum().reset_index()\n",
    "\n",
    "answered_out['calls_count']= [i / j * 100 for i,j in zip(answered_out['calls_count'],\n",
    "                                                         total_calls_out['calls_count'])]\n",
    "\n",
    "total_calls_out['calls_count'] = [i / j * 100 for i,j in zip(total_calls_out['calls_count'],\n",
    "                                                             total_calls_out['calls_count'])]\n",
    "\n",
    "# grouping \n",
    "operators_grouped = data_no_missing.groupby(['date'],as_index=False).agg({'operator_id':'nunique'})\n",
    "\n",
    "# Plotting answered vs u nanswered incomming\n",
    "plt.figure(figsize=(20,20))\n",
    "ax1= plt.subplot(3,1,1)\n",
    "\n",
    "# bar chart 1 -> top bars (group of 'unanswered')\n",
    "bar1 = sns.barplot(x=\"date\",  y=\"calls_count\", data=total_calls, color='darkblue')\n",
    "\n",
    "# bar chart 2 -> bottom bars (group of 'answered')\n",
    "bar2 = sns.barplot(x=\"date\", y=\"calls_count\", data=answered, color='lightblue')\n",
    "ax1.set(xticklabels=[]) \n",
    "\n",
    "plt.title('Answered vs unanswered calls by day incomming', fontsize = 15)\n",
    "plt.xlabel('')\n",
    "plt.ylabel('calls')\n",
    "\n",
    "top_bar = mpatches.Patch(color='darkblue', label='unanswered')\n",
    "bottom_bar = mpatches.Patch(color='lightblue', label='answered')\n",
    "plt.legend(handles=[top_bar, bottom_bar],bbox_to_anchor=(1.05, 1), loc=2, borderaxespad=0.)\n",
    "\n",
    "# Plotting answered vs u nanswered out going\n",
    "ax2= plt.subplot(3,1,2, sharex= ax1)\n",
    "# bar chart 1 -> top bars (group of 'unanswered')\n",
    "bar1 = sns.barplot(x=\"date\",  y=\"calls_count\", data=total_calls_out, color='darkblue')\n",
    "\n",
    "# bar chart 2 -> bottom bars (group of 'answered')\n",
    "bar2 = sns.barplot(x=\"date\", y=\"calls_count\", data=answered_out, color='lightblue')\n",
    "ax1.set(xticklabels=[]) \n",
    "\n",
    "plt.title('Answered vs unanswered calls by day out going', fontsize = 15)\n",
    "plt.xlabel('')\n",
    "plt.ylabel('calls')\n",
    "\n",
    "top_bar = mpatches.Patch(color='darkblue', label='unanswered')\n",
    "bottom_bar = mpatches.Patch(color='lightblue', label='answered')\n",
    "plt.legend(handles=[top_bar, bottom_bar],bbox_to_anchor=(1.05, 1), loc=2, borderaxespad=0.)\n",
    "\n",
    "\n",
    "# plotting number of operators\n",
    "ax3= plt.subplot(3,1,3)\n",
    "\n",
    "plt.plot('date', 'operator_id', data=operators_grouped,linewidth=5)\n",
    "\n",
    "\n",
    "plt.title('Number operators working by date', fontsize = 15)\n",
    "plt.xlabel('Date')\n",
    "plt.ylabel('Number of operators')\n",
    "\n",
    "\n",
    "fmt_half_year = mdates.DayLocator(interval=7)\n",
    "ax.xaxis.set_major_locator(fmt_half_year)\n",
    "\n",
    "ax.xaxis.set_major_formatter(mdates.DateFormatter('%m-%d'))\n",
    "\n",
    "\n",
    "plt.show()"
   ]
  },
  {
   "cell_type": "markdown",
   "metadata": {},
   "source": [
    "<span style=\"background-color:Lavender\">The nuber of operators is increasing by the day just like the number of calls we saw earlier. thankfully the ratio of answered calls to unanswered calls stays prety much  stable throughout (except for two days in the beginning).\n",
    "We can see that incomming calls are much more likely to get answered (allmost 100%) then out going calls\n"
   ]
  },
  {
   "cell_type": "markdown",
   "metadata": {},
   "source": [
    "### The proportions of internal calls from all calls\n",
    "<a class=\"anchor\" id=\"section_3_5\"></a>\n"
   ]
  },
  {
   "cell_type": "code",
   "execution_count": 32,
   "metadata": {},
   "outputs": [
    {
     "name": "stdout",
     "output_type": "stream",
     "text": [
      "The number of internal calls is: 13665\n",
      "The number of external calls is: 688420\n",
      "the % of external calls is: 98.05%\n"
     ]
    }
   ],
   "source": [
    "internal = data_no_missing[data_no_missing['internal']==True]\n",
    "external = data_no_missing[data_no_missing['internal']==False]\n",
    "\n",
    "print('The number of internal calls is: {}'.format(internal['calls_count'].sum()))\n",
    "print('The number of external calls is: {}'.format(external['calls_count'].sum()))\n",
    "print('the % of external calls is: {:.2%}'.format(external['calls_count'].sum()/data_no_missing['calls_count'].sum()))\n"
   ]
  },
  {
   "cell_type": "markdown",
   "metadata": {},
   "source": [
    "<span style=\"background-color:Lavender\">We have much more external calls that is to be expected, only about 2% of calls are internal"
   ]
  },
  {
   "cell_type": "markdown",
   "metadata": {},
   "source": [
    "### The proportions of unanswered calls from internal and external calls\n",
    "<a class=\"anchor\" id=\"section_3_6\"></a>"
   ]
  },
  {
   "cell_type": "code",
   "execution_count": 33,
   "metadata": {},
   "outputs": [
    {
     "data": {
      "text/html": [
       "<div>\n",
       "<style scoped>\n",
       "    .dataframe tbody tr th:only-of-type {\n",
       "        vertical-align: middle;\n",
       "    }\n",
       "\n",
       "    .dataframe tbody tr th {\n",
       "        vertical-align: top;\n",
       "    }\n",
       "\n",
       "    .dataframe thead th {\n",
       "        text-align: right;\n",
       "    }\n",
       "</style>\n",
       "<table border=\"1\" class=\"dataframe\">\n",
       "  <thead>\n",
       "    <tr style=\"text-align: right;\">\n",
       "      <th></th>\n",
       "      <th></th>\n",
       "      <th>calls_count</th>\n",
       "    </tr>\n",
       "    <tr>\n",
       "      <th>internal</th>\n",
       "      <th>is_missed_call</th>\n",
       "      <th></th>\n",
       "    </tr>\n",
       "  </thead>\n",
       "  <tbody>\n",
       "    <tr>\n",
       "      <th rowspan=\"2\" valign=\"top\">False</th>\n",
       "      <th>False</th>\n",
       "      <td>61.175590</td>\n",
       "    </tr>\n",
       "    <tr>\n",
       "      <th>True</th>\n",
       "      <td>38.824410</td>\n",
       "    </tr>\n",
       "    <tr>\n",
       "      <th rowspan=\"2\" valign=\"top\">True</th>\n",
       "      <th>False</th>\n",
       "      <td>63.095499</td>\n",
       "    </tr>\n",
       "    <tr>\n",
       "      <th>True</th>\n",
       "      <td>36.904501</td>\n",
       "    </tr>\n",
       "  </tbody>\n",
       "</table>\n",
       "</div>"
      ],
      "text/plain": [
       "                         calls_count\n",
       "internal is_missed_call             \n",
       "False    False             61.175590\n",
       "         True              38.824410\n",
       "True     False             63.095499\n",
       "         True              36.904501"
      ]
     },
     "execution_count": 33,
     "metadata": {},
     "output_type": "execute_result"
    }
   ],
   "source": [
    "internal_missed_grouped = data_no_missing.groupby(['internal','is_missed_call']).agg({'calls_count':'sum'})\n",
    "\n",
    "internal_missed_grouped_percent = internal_missed_grouped.groupby(level=0).apply(lambda x:\n",
    "                                                 100 * x / float(x.sum()))\n",
    "\n",
    "internal_missed_grouped_percent"
   ]
  },
  {
   "cell_type": "markdown",
   "metadata": {},
   "source": [
    "<span style=\"background-color:Lavender\">We can see that internal calls have a bit less % of missed calls but the difference is 2% and is not high at all."
   ]
  },
  {
   "cell_type": "markdown",
   "metadata": {},
   "source": [
    "### Calls by user, average number of calls and average duration\n",
    "<a class=\"anchor\" id=\"section_3_7\"></a>"
   ]
  },
  {
   "cell_type": "code",
   "execution_count": 34,
   "metadata": {},
   "outputs": [
    {
     "name": "stdout",
     "output_type": "stream",
     "text": [
      "Average number of daily calls per user is: 77.64\n",
      "Average daily total call duration per user is: 651.50\n",
      "Average daily call duration per user is: 490.73\n"
     ]
    }
   ],
   "source": [
    "user_calls = data_clean.groupby(['user_id','date'],as_index =False).agg({'calls_count':'sum','total_call_duration':'mean','call_duration':'mean'})\n",
    "print('Average number of daily calls per user is: {:.2f}'.format(user_calls['calls_count'].mean()))\n",
    "print('Average daily total call duration per user is: {:.2f}'.format(user_calls['total_call_duration'].mean()))\n",
    "print('Average daily call duration per user is: {:.2f}'.format(user_calls['call_duration'].mean()))\n"
   ]
  },
  {
   "cell_type": "code",
   "execution_count": 35,
   "metadata": {
    "scrolled": false
   },
   "outputs": [
    {
     "data": {
      "image/png": "[encoded data removed]",
      "text/plain": [
       "<Figure size 1080x864 with 4 Axes>"
      ]
     },
     "metadata": {
      "needs_background": "light"
     },
     "output_type": "display_data"
    }
   ],
   "source": [
    "user_calls_date = user_calls.groupby(['date'],as_index=False).agg(\n",
    "    {'calls_count':'sum','total_call_duration':'mean','call_duration':'mean','user_id':'sum'})\n",
    "\n",
    "\n",
    "# plotting\n",
    "\n",
    "# list of columns to plot\n",
    "column_list = ('user_id','calls_count','total_call_duration','call_duration')\n",
    "graph_name =  ('Number Of users','Average number of daily calls per user',\n",
    "               'Average daily total call duration per user',\n",
    "               'Average daily call duration per user'\n",
    "              )\n",
    "\n",
    "x= fig, axes = plt.subplots(4, 1, figsize=(15,12), sharex=True)\n",
    "\n",
    "for ind,val in enumerate(column_list):\n",
    "    sns.lineplot(data= user_calls_date,x= 'date',y= val,linewidth='4',\n",
    "                 ax=axes[ind],color='lightblue').set_title(graph_name[ind],fontsize=16)\n",
    "    \n",
    "  \n",
    " \n",
    "plt.show()"
   ]
  },
  {
   "cell_type": "markdown",
   "metadata": {},
   "source": [
    "We can see that users and number of calls per user are going up. The call duration is starting to stable after a cheotic start"
   ]
  },
  {
   "cell_type": "markdown",
   "metadata": {},
   "source": [
    "### Cheking to see if the users plan changes the number of calls, duration, waiting time\n",
    "<a class=\"anchor\" id=\"section_3_8\"></a>"
   ]
  },
  {
   "cell_type": "code",
   "execution_count": 36,
   "metadata": {},
   "outputs": [
    {
     "data": {
      "text/plain": [
       "C    395\n",
       "B    261\n",
       "A     76\n",
       "Name: tariff_plan, dtype: int64"
      ]
     },
     "execution_count": 36,
     "metadata": {},
     "output_type": "execute_result"
    }
   ],
   "source": [
    "clients['tariff_plan'].value_counts()"
   ]
  },
  {
   "cell_type": "code",
   "execution_count": 37,
   "metadata": {},
   "outputs": [
    {
     "data": {
      "text/html": [
       "<div>\n",
       "<style scoped>\n",
       "    .dataframe tbody tr th:only-of-type {\n",
       "        vertical-align: middle;\n",
       "    }\n",
       "\n",
       "    .dataframe tbody tr th {\n",
       "        vertical-align: top;\n",
       "    }\n",
       "\n",
       "    .dataframe thead th {\n",
       "        text-align: right;\n",
       "    }\n",
       "</style>\n",
       "<table border=\"1\" class=\"dataframe\">\n",
       "  <thead>\n",
       "    <tr style=\"text-align: right;\">\n",
       "      <th></th>\n",
       "      <th>calls_count</th>\n",
       "      <th>call_duration</th>\n",
       "      <th>waiting_time</th>\n",
       "    </tr>\n",
       "    <tr>\n",
       "      <th>tariff_plan</th>\n",
       "      <th></th>\n",
       "      <th></th>\n",
       "      <th></th>\n",
       "    </tr>\n",
       "  </thead>\n",
       "  <tbody>\n",
       "    <tr>\n",
       "      <th>A</th>\n",
       "      <td>31.135184</td>\n",
       "      <td>1746.827806</td>\n",
       "      <td>629.521002</td>\n",
       "    </tr>\n",
       "    <tr>\n",
       "      <th>B</th>\n",
       "      <td>9.586922</td>\n",
       "      <td>716.761319</td>\n",
       "      <td>163.341674</td>\n",
       "    </tr>\n",
       "    <tr>\n",
       "      <th>C</th>\n",
       "      <td>12.364931</td>\n",
       "      <td>691.480521</td>\n",
       "      <td>195.978327</td>\n",
       "    </tr>\n",
       "  </tbody>\n",
       "</table>\n",
       "</div>"
      ],
      "text/plain": [
       "             calls_count  call_duration  waiting_time\n",
       "tariff_plan                                          \n",
       "A              31.135184    1746.827806    629.521002\n",
       "B               9.586922     716.761319    163.341674\n",
       "C              12.364931     691.480521    195.978327"
      ]
     },
     "execution_count": 37,
     "metadata": {},
     "output_type": "execute_result"
    }
   ],
   "source": [
    "data_no_missing.groupby(['tariff_plan']).agg({'calls_count':'mean', 'call_duration':'mean', 'waiting_time':'mean'})"
   ]
  },
  {
   "cell_type": "markdown",
   "metadata": {},
   "source": [
    "<span style=\"background-color:Lavender\">Very interesting, when we look at the different tariff plans we see a big difference in waiting times, call count and duration. Tariff A has the most calls the longest calls and is waiting the longest to get an answer. Tariff B and C are closer together with the biggest difference being the number of calls, tariff B has a very low average number of calls only 9.5 that is 3 times less then a client in tariff A. Tariff A's cal duration is more then double the other tariffs."
   ]
  },
  {
   "cell_type": "markdown",
   "metadata": {},
   "source": [
    "### The average number of calls an operator has in a day \n",
    "<a class=\"anchor\" id=\"section_3_9\"></a>"
   ]
  },
  {
   "cell_type": "code",
   "execution_count": 38,
   "metadata": {},
   "outputs": [
    {
     "data": {
      "image/png": "[encoded data removed]",
      "text/plain": [
       "<Figure size 1440x576 with 1 Axes>"
      ]
     },
     "metadata": {
      "needs_background": "light"
     },
     "output_type": "display_data"
    },
    {
     "name": "stdout",
     "output_type": "stream",
     "text": [
      "Average number of calls an operator has in a day: 35.74\n",
      "Average number of answerd calls an operator has in a day: 22.76\n"
     ]
    }
   ],
   "source": [
    "\n",
    "# grouping all calls\n",
    "operator_daily_calls = data_no_missing.groupby(['date','operator_id'],as_index=False)['calls_count'].sum()\n",
    "daily_calls = operator_daily_calls.groupby(['date'],as_index=False)['calls_count'].mean()\n",
    "\n",
    "# grouping answered calls\n",
    "operator_daily_calls_answered = data_no_missing[\n",
    "    data_no_missing['is_missed_call']==False].groupby(['date',\n",
    "                                                          'operator_id'],\n",
    "                                                      as_index=False)['calls_count'].sum()\n",
    "daily_answered_calls = operator_daily_calls_answered.groupby(['date'],as_index=False)['calls_count'].mean()\n",
    "\n",
    "\n",
    "fig, ax = plt.subplots(figsize=(20,8))\n",
    "ax.plot('date', 'calls_count', data=daily_calls,linewidth= 3 ,label='All incoming')\n",
    "ax.plot('date', 'calls_count', data=daily_answered_calls,linewidth= 3 ,label='Answered')\n",
    "\n",
    "plt.title('Average number of calls for operator by day (answered and unanswered)', fontsize = 20)\n",
    "plt.xlabel('Date')\n",
    "plt.ylabel('Average number of cals')\n",
    "plt.legend()\n",
    "fmt_half_year = mdates.DayLocator(interval=7)\n",
    "ax.xaxis.set_major_locator(fmt_half_year)\n",
    "\n",
    "ax.xaxis.set_major_formatter(mdates.DateFormatter('%m-%d'))\n",
    "\n",
    "\n",
    "plt.show()\n",
    "\n",
    "avg_calls_per_oparator = data_no_missing.groupby(['operator_id','date'])['calls_count'].sum().mean()\n",
    "avg_answered_calls_per_oparator = data_no_missing[data_no_missing['is_missed_call']==False].groupby(['operator_id','date'])['calls_count'].sum().mean()\n",
    "print('Average number of calls an operator has in a day: {:.2f}'.format(avg_calls_per_oparator))\n",
    "print('Average number of answerd calls an operator has in a day: {:.2f}'.format(avg_answered_calls_per_oparator))\n"
   ]
  },
  {
   "cell_type": "markdown",
   "metadata": {},
   "source": [
    "<span style=\"background-color:Lavender\">Calls per operator are setteling slowly around the average of 35 calls per operator. in the beginning the number of calls was fluctuating much more and the number of calls an operator could get in a day was much higher."
   ]
  },
  {
   "cell_type": "markdown",
   "metadata": {},
   "source": [
    "## 4. Identifying ineffective metrics\n",
    "<a class=\"anchor\" id=\"chapter4\"></a>"
   ]
  },
  {
   "cell_type": "markdown",
   "metadata": {},
   "source": [
    "<span style=\"background-color:Lavender\">First thing we have to decive of a minimal number of calls an operator needs to have under its belt before we can judge their preformance. We saw before that and operator has on average was settling around 35 answered calls a day, lets give 5 days of work as the time we can start to anelize the ineffective operators.\n",
    "\n",
    "<span style=\"background-color:Lavender\">**200 calls** will be our enrty level."
   ]
  },
  {
   "cell_type": "code",
   "execution_count": 39,
   "metadata": {},
   "outputs": [
    {
     "name": "stdout",
     "output_type": "stream",
     "text": [
      "operators that had more then 200 calls: 38.10%\n",
      "That is: 416\n"
     ]
    }
   ],
   "source": [
    "# Creating an  array of all operator_id\n",
    "operator_id = data_no_missing['operator_id'].unique()\n",
    "\n",
    "# grouping and then filtering only oporators with 200 answered calls\n",
    "operator_200_calls = data_no_missing.groupby(['operator_id'],as_index=False)['calls_count'].sum()\n",
    "operator_200_calls = operator_200_calls[operator_200_calls['calls_count']>=200]\n",
    "\n",
    "# a list of operator id's with 200 calls\n",
    "operator_200_calls_list = operator_200_calls['operator_id'].tolist()\n",
    "opearators_200_boo = data_no_missing['operator_id'].isin(operator_200_calls_list)\n",
    "\n",
    "opearators_200 = data_no_missing[opearators_200_boo]\n",
    "\n",
    "print('operators that had more then 200 calls: {:.2%}'.format(len(operator_200_calls)/len(operator_id)))\n",
    "print('That is: {}'.format(len(operator_200_calls)))\n"
   ]
  },
  {
   "cell_type": "markdown",
   "metadata": {},
   "source": [
    "<span style=\"background-color:Lavender\">I will write a function that outputs a boxplot of a groupby columns and quantiles"
   ]
  },
  {
   "cell_type": "code",
   "execution_count": 40,
   "metadata": {},
   "outputs": [],
   "source": [
    "\n",
    "def box_plot(data, col,title='', quantile=[.25, .5, .75]):\n",
    "    '''\n",
    "    This function takes a df and a column and prints out the quantiles of the column and \n",
    "    plots a boxplot with a title \n",
    "    and optional quantiles\n",
    "    '''\n",
    "    print('Quantiles number of {}:'.format(col))\n",
    "    print(data[col].quantile(quantile))\n",
    "    \n",
    "    fig, ax = plt.subplots(figsize=(15,5))\n",
    "    ax= sns.boxplot(x=col, data=data)\n",
    "    plt.title(title,fontsize=15)\n",
    "    plt.axvline(data[col].mean(),linestyle='dashed',color='r')\n",
    "    plt.show()"
   ]
  },
  {
   "cell_type": "code",
   "execution_count": 41,
   "metadata": {},
   "outputs": [
    {
     "data": {
      "text/html": [
       "<div>\n",
       "<style scoped>\n",
       "    .dataframe tbody tr th:only-of-type {\n",
       "        vertical-align: middle;\n",
       "    }\n",
       "\n",
       "    .dataframe tbody tr th {\n",
       "        vertical-align: top;\n",
       "    }\n",
       "\n",
       "    .dataframe thead th {\n",
       "        text-align: right;\n",
       "    }\n",
       "</style>\n",
       "<table border=\"1\" class=\"dataframe\">\n",
       "  <thead>\n",
       "    <tr style=\"text-align: right;\">\n",
       "      <th></th>\n",
       "      <th>user_id</th>\n",
       "      <th>date</th>\n",
       "      <th>direction</th>\n",
       "      <th>internal</th>\n",
       "      <th>operator_id</th>\n",
       "      <th>is_missed_call</th>\n",
       "      <th>calls_count</th>\n",
       "      <th>call_duration</th>\n",
       "      <th>total_call_duration</th>\n",
       "      <th>day</th>\n",
       "      <th>tariff_plan</th>\n",
       "      <th>date_start</th>\n",
       "      <th>waiting_time</th>\n",
       "    </tr>\n",
       "  </thead>\n",
       "  <tbody>\n",
       "    <tr>\n",
       "      <th>33819</th>\n",
       "      <td>167626</td>\n",
       "      <td>2019-10-10</td>\n",
       "      <td>out</td>\n",
       "      <td>False</td>\n",
       "      <td>919372.0</td>\n",
       "      <td>False</td>\n",
       "      <td>4</td>\n",
       "      <td>251</td>\n",
       "      <td>300</td>\n",
       "      <td>3</td>\n",
       "      <td>A</td>\n",
       "      <td>2019-09-24</td>\n",
       "      <td>49</td>\n",
       "    </tr>\n",
       "  </tbody>\n",
       "</table>\n",
       "</div>"
      ],
      "text/plain": [
       "       user_id        date direction internal  operator_id  is_missed_call  \\\n",
       "33819   167626  2019-10-10       out    False     919372.0           False   \n",
       "\n",
       "       calls_count  call_duration  total_call_duration  day tariff_plan  \\\n",
       "33819            4            251                  300    3           A   \n",
       "\n",
       "      date_start  waiting_time  \n",
       "33819 2019-09-24            49  "
      ]
     },
     "execution_count": 41,
     "metadata": {},
     "output_type": "execute_result"
    }
   ],
   "source": [
    "opearators_200.sample()"
   ]
  },
  {
   "cell_type": "markdown",
   "metadata": {},
   "source": [
    "### Unanswered calls\n",
    "<a class=\"anchor\" id=\"section_4_1\"></a>"
   ]
  },
  {
   "cell_type": "code",
   "execution_count": 42,
   "metadata": {},
   "outputs": [
    {
     "data": {
      "text/html": [
       "<div>\n",
       "<style scoped>\n",
       "    .dataframe tbody tr th:only-of-type {\n",
       "        vertical-align: middle;\n",
       "    }\n",
       "\n",
       "    .dataframe tbody tr th {\n",
       "        vertical-align: top;\n",
       "    }\n",
       "\n",
       "    .dataframe thead th {\n",
       "        text-align: right;\n",
       "    }\n",
       "</style>\n",
       "<table border=\"1\" class=\"dataframe\">\n",
       "  <thead>\n",
       "    <tr style=\"text-align: right;\">\n",
       "      <th></th>\n",
       "      <th>operator_id</th>\n",
       "      <th>is_missed_call</th>\n",
       "      <th>calls_count</th>\n",
       "    </tr>\n",
       "  </thead>\n",
       "  <tbody>\n",
       "    <tr>\n",
       "      <th>380</th>\n",
       "      <td>948286.0</td>\n",
       "      <td>False</td>\n",
       "      <td>95.297806</td>\n",
       "    </tr>\n",
       "    <tr>\n",
       "      <th>317</th>\n",
       "      <td>939370.0</td>\n",
       "      <td>False</td>\n",
       "      <td>99.170124</td>\n",
       "    </tr>\n",
       "    <tr>\n",
       "      <th>202</th>\n",
       "      <td>919554.0</td>\n",
       "      <td>False</td>\n",
       "      <td>99.068586</td>\n",
       "    </tr>\n",
       "    <tr>\n",
       "      <th>209</th>\n",
       "      <td>920666.0</td>\n",
       "      <td>False</td>\n",
       "      <td>99.438202</td>\n",
       "    </tr>\n",
       "    <tr>\n",
       "      <th>397</th>\n",
       "      <td>954750.0</td>\n",
       "      <td>False</td>\n",
       "      <td>99.551570</td>\n",
       "    </tr>\n",
       "  </tbody>\n",
       "</table>\n",
       "</div>"
      ],
      "text/plain": [
       "     operator_id  is_missed_call  calls_count\n",
       "380     948286.0           False    95.297806\n",
       "317     939370.0           False    99.170124\n",
       "202     919554.0           False    99.068586\n",
       "209     920666.0           False    99.438202\n",
       "397     954750.0           False    99.551570"
      ]
     },
     "execution_count": 42,
     "metadata": {},
     "output_type": "execute_result"
    }
   ],
   "source": [
    "# number of incomming calls by oparator\n",
    "\n",
    "incoming = opearators_200[opearators_200['direction']=='in']\n",
    "\n",
    "operator_daily_in_calls = incoming.groupby(['operator_id','is_missed_call']).agg({'calls_count':'sum'})\n",
    "\n",
    "operator_daily_in_calls_percent = operator_daily_in_calls.groupby(level=0).apply(lambda x:\n",
    "                                                 100 * x / float(x.sum())).reset_index()\n",
    "\n",
    "operator_daily_in_calls_percent= operator_daily_in_calls_percent[\n",
    "    operator_daily_in_calls_percent['is_missed_call']==False].sort_values(by='calls_count')\n",
    "\n",
    "# becouse we have oparators with a low number of calls, \n",
    "# we need to filter out all the 100% so this wount skew the data\n",
    "\n",
    "operator_daily_in_calls_percent_100 = operator_daily_in_calls_percent[operator_daily_in_calls_percent['calls_count']<100]\n",
    "operator_daily_in_calls_percent_100.sample(5)\n"
   ]
  },
  {
   "cell_type": "code",
   "execution_count": 43,
   "metadata": {},
   "outputs": [
    {
     "name": "stdout",
     "output_type": "stream",
     "text": [
      "Quantiles number of calls_count:\n",
      "0.10    94.117647\n",
      "0.25    97.700846\n",
      "0.75    99.429293\n",
      "Name: calls_count, dtype: float64\n"
     ]
    },
    {
     "data": {
      "image/png": "[encoded data removed]",
      "text/plain": [
       "<Figure size 1080x360 with 1 Axes>"
      ]
     },
     "metadata": {
      "needs_background": "light"
     },
     "output_type": "display_data"
    }
   ],
   "source": [
    "# printing the 25% 50% and 75& quantiles\n",
    "box_plot(operator_daily_in_calls_percent_100,\n",
    "         'calls_count',title='% of incoming answered calls by oparator', quantile=[.10, .25, .75])"
   ]
  },
  {
   "cell_type": "markdown",
   "metadata": {},
   "source": [
    "<span style=\"background-color:Lavender\">For % of incoming calls:\n",
    "\n",
    "<span style=\"background-color:Lavender\">- if a oparator has  94% or less of the incomming calls answered it will be ineffective</span>\n",
    "\n",
    "<span style=\"background-color:Lavender\">- If an operator has 99.4% or more answered that will be a good operator\n",
    "    </span>"
   ]
  },
  {
   "cell_type": "markdown",
   "metadata": {},
   "source": [
    "### Incoming call waiting time\n",
    "<a class=\"anchor\" id=\"section_4_2\"></a>"
   ]
  },
  {
   "cell_type": "code",
   "execution_count": 44,
   "metadata": {
    "scrolled": false
   },
   "outputs": [
    {
     "name": "stdout",
     "output_type": "stream",
     "text": [
      "Quantiles number of waiting_time:\n",
      "0.25     22.0\n",
      "0.50     57.0\n",
      "0.75    145.0\n",
      "Name: waiting_time, dtype: float64\n"
     ]
    },
    {
     "data": {
      "image/png": "[encoded data removed]",
      "text/plain": [
       "<Figure size 1080x360 with 1 Axes>"
      ]
     },
     "metadata": {
      "needs_background": "light"
     },
     "output_type": "display_data"
    },
    {
     "name": "stdout",
     "output_type": "stream",
     "text": [
      "Average waiting time for incomming call is: 131.31\n"
     ]
    }
   ],
   "source": [
    "# we will first filter out in unanswered calls \n",
    "\n",
    "incoming_answered = incoming[incoming['is_missed_call']==False]\n",
    "\n",
    "box_plot(incoming_answered, 'waiting_time','Waiting time for unswered calls')\n",
    "print('Average waiting time for incomming call is: {:.2f}'.format(incoming_answered['waiting_time'].mean()))\n"
   ]
  },
  {
   "cell_type": "markdown",
   "metadata": {},
   "source": [
    "<span style=\"background-color:Lavender\">We have many outliers in the data, we need to determine the point at which we filter out the outliers. Looking at the boxplot I belive we can put the max at 500 and go on from there"
   ]
  },
  {
   "cell_type": "code",
   "execution_count": 45,
   "metadata": {
    "scrolled": false
   },
   "outputs": [
    {
     "name": "stdout",
     "output_type": "stream",
     "text": [
      "Quantiles number of waiting_time:\n",
      "0.25     20.0\n",
      "0.50     52.0\n",
      "0.75    121.0\n",
      "Name: waiting_time, dtype: float64\n"
     ]
    },
    {
     "data": {
      "image/png": "[encoded data removed]",
      "text/plain": [
       "<Figure size 1080x360 with 1 Axes>"
      ]
     },
     "metadata": {
      "needs_background": "light"
     },
     "output_type": "display_data"
    }
   ],
   "source": [
    "incoming_answered_250 = incoming_answered[incoming_answered['waiting_time']<500]\n",
    "\n",
    "box_plot(incoming_answered_250, 'waiting_time','Waiting time for unswered calls (up to 500)')"
   ]
  },
  {
   "cell_type": "markdown",
   "metadata": {},
   "source": [
    "<span style=\"background-color:Lavender\">Now its much better,\n",
    "\n",
    "\n",
    "<span style=\"background-color:Lavender\">- inefficient operators have an **waiting time of 121 and up** \n",
    "\n",
    "<span style=\"background-color:Lavender\">- And efficiant ones have an **20 or less**\n",
    "\n",
    "\n",
    "\n",
    "<span style=\"background-color:Lavender\">Now we need to see how many calls each oparator has with a long waiting time."
   ]
  },
  {
   "cell_type": "code",
   "execution_count": 46,
   "metadata": {},
   "outputs": [
    {
     "name": "stdout",
     "output_type": "stream",
     "text": [
      "Quantiles number of calls_count:\n",
      "0.25    20.021056\n",
      "0.50    54.340718\n",
      "0.75    87.105039\n",
      "Name: calls_count, dtype: float64\n"
     ]
    },
    {
     "data": {
      "image/png": "[encoded data removed]",
      "text/plain": [
       "<Figure size 1080x360 with 1 Axes>"
      ]
     },
     "metadata": {
      "needs_background": "light"
     },
     "output_type": "display_data"
    }
   ],
   "source": [
    "# adding a column for long waiting times\n",
    "incoming_answered['long_wait'] = incoming_answered['waiting_time'].apply(lambda x:True  if x>= 121 else  False)\n",
    "\n",
    "# grouping \n",
    "incoming_grouped = incoming_answered.groupby(['operator_id','long_wait']).agg({'calls_count':'sum'})\n",
    "\n",
    "# turning column into % from same group (% long waiting time to long waiting)\n",
    "incoming_grouped = incoming_grouped.groupby(level=0).apply(lambda x:\n",
    "                                                 100 * x / float(x.sum())).reset_index()\n",
    "# Filtering only long wait \n",
    "incoming_grouped = incoming_grouped[incoming_grouped['long_wait']== True].sort_values(by='calls_count')\n",
    "\n",
    "\n",
    "box_plot(incoming_grouped, 'calls_count','% of incomming calls that are with long waiting time')\n",
    "\n"
   ]
  },
  {
   "cell_type": "markdown",
   "metadata": {},
   "source": [
    "### Precent of incomming calls with a long wait:\n",
    "<a class=\"anchor\" id=\"section_4_3\"></a>\n",
    "<span style=\"background-color:Lavender\">- an inefficient operator 87% of calls with long waiting time\n",
    "    \n",
    "<span style=\"background-color:Lavender\">- a good operator has 20% and under calls with long waiting time\n",
    "\n"
   ]
  },
  {
   "cell_type": "code",
   "execution_count": 47,
   "metadata": {},
   "outputs": [
    {
     "name": "stdout",
     "output_type": "stream",
     "text": [
      "Quantiles number of waiting_time:\n",
      "0.25     28.937500\n",
      "0.50     53.802033\n",
      "0.75    120.218452\n",
      "Name: waiting_time, dtype: float64\n"
     ]
    },
    {
     "data": {
      "image/png": "[encoded data removed]",
      "text/plain": [
       "<Figure size 1080x360 with 1 Axes>"
      ]
     },
     "metadata": {
      "needs_background": "light"
     },
     "output_type": "display_data"
    },
    {
     "name": "stdout",
     "output_type": "stream",
     "text": [
      "Average waiting time for operator is: 110.66\n"
     ]
    }
   ],
   "source": [
    "group = incoming_answered.groupby(['operator_id'],as_index=False)['waiting_time'].mean()\n",
    "\n",
    "box_plot(group, 'waiting_time','Average waiting time per operator')\n",
    "\n",
    "print('Average waiting time for operator is: {:.2f}'.format(incoming_answered.groupby(\n",
    "    ['operator_id'])['waiting_time'].mean().mean()))\n"
   ]
  },
  {
   "cell_type": "markdown",
   "metadata": {},
   "source": [
    "<span style=\"background-color:Lavender\">the Average waiting time per operator has outliers I will filter up to 400."
   ]
  },
  {
   "cell_type": "code",
   "execution_count": 48,
   "metadata": {},
   "outputs": [
    {
     "name": "stdout",
     "output_type": "stream",
     "text": [
      "Quantiles number of waiting_time:\n",
      "0.25    26.348214\n",
      "0.50    45.756705\n",
      "0.75    84.118333\n",
      "Name: waiting_time, dtype: float64\n"
     ]
    },
    {
     "data": {
      "image/png": "[encoded data removed]",
      "text/plain": [
       "<Figure size 1080x360 with 1 Axes>"
      ]
     },
     "metadata": {
      "needs_background": "light"
     },
     "output_type": "display_data"
    }
   ],
   "source": [
    "box_plot(group[group['waiting_time']<200], 'waiting_time','Average waiting time per operator (up to 400)')\n"
   ]
  },
  {
   "cell_type": "markdown",
   "metadata": {},
   "source": [
    "\n",
    "<span style=\"background-color:Lavender\">The average waiting time per operator:\n",
    "\n",
    "<span style=\"background-color:Lavender\">- an inefficient operator has 84 average waiting time\n",
    "\n",
    "<span style=\"background-color:Lavender\">- a good operator has 26 and under average waiting time\n",
    "\n"
   ]
  },
  {
   "cell_type": "markdown",
   "metadata": {},
   "source": [
    "### Out going calls\n",
    "<a class=\"anchor\" id=\"section_4_5\"></a>"
   ]
  },
  {
   "cell_type": "code",
   "execution_count": 49,
   "metadata": {},
   "outputs": [
    {
     "name": "stdout",
     "output_type": "stream",
     "text": [
      "Quantiles number of calls_count:\n",
      "0.25    10.844828\n",
      "0.50    29.100000\n",
      "0.75    76.692857\n",
      "Name: calls_count, dtype: float64\n"
     ]
    },
    {
     "data": {
      "image/png": "[encoded data removed]",
      "text/plain": [
       "<Figure size 1080x360 with 1 Axes>"
      ]
     },
     "metadata": {
      "needs_background": "light"
     },
     "output_type": "display_data"
    }
   ],
   "source": [
    "# df with only outgoing calls\n",
    "out_going = opearators_200[opearators_200['direction']=='out']\n",
    "\n",
    "out_grouped = out_going.groupby(['operator_id','date'],as_index=False)['calls_count'].sum()\n",
    "out_grouped = out_grouped.groupby(['operator_id'],as_index=False)['calls_count'].mean()\n",
    "box_plot(out_grouped,'calls_count','Number of out going calls')\n"
   ]
  },
  {
   "cell_type": "markdown",
   "metadata": {},
   "source": [
    "<span style=\"background-color:Lavender\">We have some outliers we need to filter out, we will filter everything above 200 "
   ]
  },
  {
   "cell_type": "code",
   "execution_count": 50,
   "metadata": {},
   "outputs": [
    {
     "name": "stdout",
     "output_type": "stream",
     "text": [
      "Quantiles number of calls_count:\n",
      "0.25    10.382212\n",
      "0.50    28.270996\n",
      "0.75    68.576316\n",
      "Name: calls_count, dtype: float64\n"
     ]
    },
    {
     "data": {
      "image/png": "[encoded data removed]",
      "text/plain": [
       "<Figure size 1080x360 with 1 Axes>"
      ]
     },
     "metadata": {
      "needs_background": "light"
     },
     "output_type": "display_data"
    }
   ],
   "source": [
    "box_plot(out_grouped[out_grouped['calls_count']<200],'calls_count','Number of out going calls (up to 200)')"
   ]
  },
  {
   "cell_type": "markdown",
   "metadata": {},
   "source": [
    "<span style=\"background-color:Lavender\">This is better\n",
    "<span style=\"background-color:Lavender\">- we can say that an ineffective operator is one with 12 or less avd daily outgoing calls \n",
    "\n",
    "<span style=\"background-color:Lavender\">- Good operators are ones with 80 or more average daily out-going calls"
   ]
  },
  {
   "cell_type": "markdown",
   "metadata": {},
   "source": [
    "### ineffective qualities conclution\n",
    "\n",
    "We have identified 5 qualities that make up the score of an ineffective operator:\n",
    "\n",
    "1. **% of answered calls:**\n",
    "    - if a oparator has 96% or less of the incomming calls answered it will be ineffective\n",
    "    - If an operator has 100% or more answered that will be a good operator.\n",
    "    \n",
    "1. **Waiting time for answered calls:**\n",
    "    - inefficient operators have a average waiting time of 121 and up\n",
    "    - efficiant ones have average 20 or less\n",
    "1. **% of incomming calls with a long wait (long wait > 121):**\n",
    "    - inefficient operator 87% of calls are with a long waiting time\n",
    "    - a good operator has 20% and under calls with long waiting time \n",
    "1. **The average waiting time per operator (incoming):**\n",
    "    - an inefficient operator has 84 average and up waiting time\n",
    "    - a good operator has 26 average and under waiting time\n",
    "1. **Number of out going calls:**\n",
    "    - we can say that an ineffective operator is one with 12 or less average daily outgoing calls \n",
    "    - Good operators are ones with 80 or more average daily out-going calls\n",
    "    \n"
   ]
  },
  {
   "cell_type": "markdown",
   "metadata": {},
   "source": [
    "## 5. Adding efficiency score columns \n",
    "<a class=\"anchor\" id=\"chapter5\"></a>"
   ]
  },
  {
   "cell_type": "markdown",
   "metadata": {},
   "source": [
    "<span style=\"background-color:Lavender\">First thing I'll write a function that takes a list of operator ids and gives back a df with the 5 qualities for each operator."
   ]
  },
  {
   "cell_type": "code",
   "execution_count": 51,
   "metadata": {
    "scrolled": false
   },
   "outputs": [],
   "source": [
    "# Writing function to add score columns\n",
    "\n",
    "def operator_score_df(df, operator_id):\n",
    "    '''\n",
    "    This function will take\n",
    "    a data frame \n",
    "    an operator_id list\n",
    "    and returns a data frame with the score metrict for each oparetore id\n",
    "    \n",
    "    '''\n",
    "    \n",
    "    new_df = pd.DataFrame(columns=['operator_id', 'first_date', 'last_date', 'calls_sum', 'calls_out_daily_avg',\n",
    "                                  'calls_incoming_daily_avg', '%_answered_calls',\n",
    "                                   '%_incoming_long_wait','avg_waiting_time',\n",
    "                                   'score_%_answered', 'score_waiting_time',\n",
    "                                   'score_%_long_wait','score_avg_wait','score_out_going','score'])\n",
    "    \n",
    "    for op in operator_id:\n",
    "        \n",
    "        op_df = pd.DataFrame(\n",
    "            {\n",
    "            'operator_id': None,\n",
    "            'first_date': None,\n",
    "            'last_date': None,\n",
    "            'calls_sum': None,\n",
    "            'calls_out_daily_avg': None,\n",
    "            'calls_incoming_daily_avg': None,\n",
    "            '%_answered_calls': None,\n",
    "            '%_incoming_long_wait': None,\n",
    "            'avg_waiting_time': None\n",
    "            }, index=[0])\n",
    "\n",
    "        # id\n",
    "        op_df['operator_id']= op  \n",
    "\n",
    "        # df with only operators data\n",
    "        operator_df = df[df['operator_id']== op]\n",
    "\n",
    "\n",
    "\n",
    "        first_date = operator_df['date'].min() # first date\n",
    "        op_df['first_date']= first_date\n",
    "\n",
    "        last_date = operator_df['date'].max()  # last date\n",
    "        op_df['last_date']= last_date\n",
    "\n",
    "        calls_sum = operator_df['calls_count'].sum()  # number of all calls\n",
    "        op_df['calls_sum']= calls_sum\n",
    "\n",
    "        operator_out_calls = operator_df[operator_df['direction']=='out']   # out going calls \n",
    "        calls_out_sum = operator_out_calls['calls_count'].sum()\n",
    "        \n",
    "\n",
    "        operator_in_calls = operator_df[operator_df['direction']=='in']  # incoming calls\n",
    "        calls_incoming_sum = operator_in_calls['calls_count'].sum()\n",
    "        \n",
    " \n",
    "\n",
    "        if calls_incoming_sum > 0:  # only if there are incoming calls\n",
    "\n",
    "            # % of answered calls\n",
    "            call_in_daily_avg = operator_in_calls.groupby(['date'],as_index=False)['calls_count'].sum()\n",
    "            op_df['calls_incoming_daily_avg'] = call_in_daily_avg['calls_count'].mean()\n",
    "            \n",
    "            operator_call_count = operator_in_calls['calls_count'].sum()\n",
    "            operator_calls_answered = operator_in_calls[operator_in_calls['is_missed_call']==False]\n",
    "            operator_calls_answered_sum = operator_in_calls[\n",
    "                operator_in_calls['is_missed_call']==False]['calls_count'].sum()\n",
    "\n",
    "            op_df['%_answered_calls'] = operator_calls_answered_sum/operator_call_count\n",
    "\n",
    "\n",
    "            # % of incomming calls with a long wait:\n",
    "            pcent_long_wait = operator_calls_answered[operator_calls_answered['waiting_time']>=76]\n",
    "            number_of_long_waits = pcent_long_wait['calls_count'].sum()\n",
    "            op_df['%_incoming_long_wait'] = number_of_long_waits/operator_calls_answered_sum\n",
    "\n",
    "\n",
    "            avg_waiting_time = operator_calls_answered['waiting_time'].mean() # waiting time for answered calls\n",
    "            op_df['avg_waiting_time'] = avg_waiting_time\n",
    "        \n",
    "        # Score unanswered\n",
    "        if (op_df['%_answered_calls'] <= 0.96).all():\n",
    "            op_df['score_%_answered'] = -1\n",
    "        elif (op_df['%_answered_calls'] <= 1).all():\n",
    "            op_df['score_%_answered'] = 1\n",
    "        else:\n",
    "            op_df['score_%_answered'] = 0\n",
    "            \n",
    "        # Score waiting time \n",
    "        if (op_df['avg_waiting_time']>= 121).all():\n",
    "            op_df['score_waiting_time'] = -1\n",
    "        elif (op_df['avg_waiting_time']<= 20).all():\n",
    "            op_df['score_waiting_time'] = 1\n",
    "        else:\n",
    "            op_df['score_waiting_time'] = 0\n",
    "            \n",
    "        # Score % long wait\n",
    "        if (op_df['%_incoming_long_wait']>= 0.87).all():\n",
    "            op_df['score_%_long_wait'] =-1\n",
    "        elif (op_df['%_incoming_long_wait']>= 0.20).all():\n",
    "            op_df['score_%_long_wait'] = 1\n",
    "        else:\n",
    "            op_df['score_%_long_wait'] = 0\n",
    "            \n",
    "         # Score avg wait\n",
    "        if (op_df['avg_waiting_time']>= 84).all():\n",
    "            op_df['score_avg_wait'] = -1\n",
    "        elif (op_df['avg_waiting_time']<= 26).all():\n",
    "            op_df['score_avg_wait'] = 1\n",
    "        else:\n",
    "            op_df['score_avg_wait'] = 0\n",
    "            \n",
    "        # calls out score   \n",
    "        if calls_out_sum != 0:  \n",
    "            calls_out_daily = operator_out_calls.groupby(['date'],as_index=False)['calls_count'].sum()\n",
    "            calls_out_daily_avg = calls_out_daily['calls_count'].mean()\n",
    "            op_df['calls_out_daily_avg'] = calls_out_daily_avg\n",
    "        else:\n",
    "            op_df['calls_out_daily_avg'] = 0\n",
    "            \n",
    "        if (op_df['calls_out_daily_avg'] <=12).all() and (op_df['calls_out_daily_avg'] >0).all(): \n",
    "            op_df['score_out_going'] = -1\n",
    "            \n",
    "        elif (op_df['calls_out_daily_avg'] >=80).all(): \n",
    "            op_df['score_out_going'] = 1\n",
    "        elif (op_df['calls_out_daily_avg']==0).all(): \n",
    "            op_df['score_out_going'] = 0   \n",
    "        else:\n",
    "            op_df['score_out_going'] = 0    \n",
    "        \n",
    "        op_df['score'] = op_df[\n",
    "            'score_%_answered'] + op_df[\n",
    "            'score_waiting_time']+ op_df[\n",
    "            'score_%_long_wait']+op_df[\n",
    "            'score_avg_wait']+op_df[\n",
    "            'score_out_going'\n",
    "        ]\n",
    "            \n",
    "            \n",
    "        new_df = new_df.append(op_df, ignore_index = True)\n",
    "        \n",
    "       \n",
    "        \n",
    "        \n",
    "        \n",
    "    return new_df\n"
   ]
  },
  {
   "cell_type": "code",
   "execution_count": 52,
   "metadata": {},
   "outputs": [
    {
     "data": {
      "text/html": [
       "<div>\n",
       "<style scoped>\n",
       "    .dataframe tbody tr th:only-of-type {\n",
       "        vertical-align: middle;\n",
       "    }\n",
       "\n",
       "    .dataframe tbody tr th {\n",
       "        vertical-align: top;\n",
       "    }\n",
       "\n",
       "    .dataframe thead th {\n",
       "        text-align: right;\n",
       "    }\n",
       "</style>\n",
       "<table border=\"1\" class=\"dataframe\">\n",
       "  <thead>\n",
       "    <tr style=\"text-align: right;\">\n",
       "      <th></th>\n",
       "      <th>operator_id</th>\n",
       "      <th>first_date</th>\n",
       "      <th>last_date</th>\n",
       "      <th>calls_sum</th>\n",
       "      <th>calls_out_daily_avg</th>\n",
       "      <th>calls_incoming_daily_avg</th>\n",
       "      <th>%_answered_calls</th>\n",
       "      <th>%_incoming_long_wait</th>\n",
       "      <th>avg_waiting_time</th>\n",
       "      <th>score_%_answered</th>\n",
       "      <th>score_waiting_time</th>\n",
       "      <th>score_%_long_wait</th>\n",
       "      <th>score_avg_wait</th>\n",
       "      <th>score_out_going</th>\n",
       "      <th>score</th>\n",
       "    </tr>\n",
       "  </thead>\n",
       "  <tbody>\n",
       "    <tr>\n",
       "      <th>0</th>\n",
       "      <td>879896.0</td>\n",
       "      <td>2019-08-02</td>\n",
       "      <td>2019-11-25</td>\n",
       "      <td>930</td>\n",
       "      <td>17.795918</td>\n",
       "      <td>2.7619</td>\n",
       "      <td>1</td>\n",
       "      <td>0.344828</td>\n",
       "      <td>27.3333</td>\n",
       "      <td>1</td>\n",
       "      <td>0</td>\n",
       "      <td>1</td>\n",
       "      <td>0</td>\n",
       "      <td>0</td>\n",
       "      <td>2</td>\n",
       "    </tr>\n",
       "    <tr>\n",
       "      <th>1</th>\n",
       "      <td>879898.0</td>\n",
       "      <td>2019-08-02</td>\n",
       "      <td>2019-11-28</td>\n",
       "      <td>7312</td>\n",
       "      <td>87.914634</td>\n",
       "      <td>1.83929</td>\n",
       "      <td>1</td>\n",
       "      <td>0.0970874</td>\n",
       "      <td>29.875</td>\n",
       "      <td>1</td>\n",
       "      <td>0</td>\n",
       "      <td>0</td>\n",
       "      <td>0</td>\n",
       "      <td>1</td>\n",
       "      <td>2</td>\n",
       "    </tr>\n",
       "    <tr>\n",
       "      <th>2</th>\n",
       "      <td>880026.0</td>\n",
       "      <td>2019-08-07</td>\n",
       "      <td>2019-11-28</td>\n",
       "      <td>2232</td>\n",
       "      <td>28.675325</td>\n",
       "      <td>1.33333</td>\n",
       "      <td>1</td>\n",
       "      <td>0</td>\n",
       "      <td>7.94444</td>\n",
       "      <td>1</td>\n",
       "      <td>1</td>\n",
       "      <td>0</td>\n",
       "      <td>1</td>\n",
       "      <td>0</td>\n",
       "      <td>3</td>\n",
       "    </tr>\n",
       "    <tr>\n",
       "      <th>3</th>\n",
       "      <td>880028.0</td>\n",
       "      <td>2019-08-07</td>\n",
       "      <td>2019-11-28</td>\n",
       "      <td>2560</td>\n",
       "      <td>32.012821</td>\n",
       "      <td>1.53659</td>\n",
       "      <td>1</td>\n",
       "      <td>0</td>\n",
       "      <td>8.36585</td>\n",
       "      <td>1</td>\n",
       "      <td>1</td>\n",
       "      <td>0</td>\n",
       "      <td>1</td>\n",
       "      <td>0</td>\n",
       "      <td>3</td>\n",
       "    </tr>\n",
       "    <tr>\n",
       "      <th>4</th>\n",
       "      <td>882684.0</td>\n",
       "      <td>2019-08-06</td>\n",
       "      <td>2019-10-29</td>\n",
       "      <td>1274</td>\n",
       "      <td>11.396552</td>\n",
       "      <td>13.3261</td>\n",
       "      <td>0.993475</td>\n",
       "      <td>0.962233</td>\n",
       "      <td>205.652</td>\n",
       "      <td>1</td>\n",
       "      <td>-1</td>\n",
       "      <td>-1</td>\n",
       "      <td>-1</td>\n",
       "      <td>-1</td>\n",
       "      <td>-3</td>\n",
       "    </tr>\n",
       "  </tbody>\n",
       "</table>\n",
       "</div>"
      ],
      "text/plain": [
       "   operator_id  first_date   last_date calls_sum  calls_out_daily_avg  \\\n",
       "0     879896.0  2019-08-02  2019-11-25       930            17.795918   \n",
       "1     879898.0  2019-08-02  2019-11-28      7312            87.914634   \n",
       "2     880026.0  2019-08-07  2019-11-28      2232            28.675325   \n",
       "3     880028.0  2019-08-07  2019-11-28      2560            32.012821   \n",
       "4     882684.0  2019-08-06  2019-10-29      1274            11.396552   \n",
       "\n",
       "  calls_incoming_daily_avg %_answered_calls %_incoming_long_wait  \\\n",
       "0                   2.7619                1             0.344828   \n",
       "1                  1.83929                1            0.0970874   \n",
       "2                  1.33333                1                    0   \n",
       "3                  1.53659                1                    0   \n",
       "4                  13.3261         0.993475             0.962233   \n",
       "\n",
       "  avg_waiting_time score_%_answered score_waiting_time score_%_long_wait  \\\n",
       "0          27.3333                1                  0                 1   \n",
       "1           29.875                1                  0                 0   \n",
       "2          7.94444                1                  1                 0   \n",
       "3          8.36585                1                  1                 0   \n",
       "4          205.652                1                 -1                -1   \n",
       "\n",
       "  score_avg_wait score_out_going score  \n",
       "0              0               0     2  \n",
       "1              0               1     2  \n",
       "2              1               0     3  \n",
       "3              1               0     3  \n",
       "4             -1              -1    -3  "
      ]
     },
     "execution_count": 52,
     "metadata": {},
     "output_type": "execute_result"
    }
   ],
   "source": [
    "oparetore_score= operator_score_df(data_no_missing, operator_200_calls_list)   \n",
    "\n",
    "oparetore_score.head(5)"
   ]
  },
  {
   "cell_type": "code",
   "execution_count": 53,
   "metadata": {
    "scrolled": false
   },
   "outputs": [
    {
     "data": {
      "image/png": "[encoded data removed]",
      "text/plain": [
       "<Figure size 1440x432 with 5 Axes>"
      ]
     },
     "metadata": {
      "needs_background": "light"
     },
     "output_type": "display_data"
    }
   ],
   "source": [
    "# plotting\n",
    "\n",
    "# list of columns to plot\n",
    "column_list = ('score_%_answered','score_waiting_time','score_%_long_wait','score_avg_wait','score_out_going')\n",
    "\n",
    "\n",
    "x= fig, axes = plt.subplots(1, 5, figsize=(20,6),sharey= True)\n",
    "fig.suptitle('Tests score', fontsize=20)\n",
    "\n",
    "for ind,val in enumerate(column_list):\n",
    "    sns.countplot(oparetore_score[val],ax=axes[ind]).set_title(val,fontsize=16)\n",
    "    \n",
    "    \n",
    "plt.show()"
   ]
  },
  {
   "cell_type": "markdown",
   "metadata": {},
   "source": [
    "In these 5 graphs we can see the count of operatores with that score for each of the tests.\n",
    "the score is :\n",
    "- Inefficient: -1\n",
    "\n",
    "- Normal: 0\n",
    "\n",
    "- Excellent: 1\n",
    "\n",
    "except for the 'score_%_answered' that has a higher number of '1' score and very low '-1' score, in all other tests '0' has the highest count. "
   ]
  },
  {
   "cell_type": "code",
   "execution_count": 54,
   "metadata": {
    "scrolled": false
   },
   "outputs": [
    {
     "data": {
      "image/png": "[encoded data removed]",
      "text/plain": [
       "<Figure size 720x360 with 1 Axes>"
      ]
     },
     "metadata": {
      "needs_background": "light"
     },
     "output_type": "display_data"
    }
   ],
   "source": [
    "Counter(oparetore_score['score_%_answered'])\n",
    "\n",
    "plt.figure(figsize=(10,5))\n",
    "plt.hist(oparetore_score['score'],color='c')\n",
    "plt.title('Operatores total score',fontsize=15)\n",
    "plt.axvline(oparetore_score['score'].mean(),linestyle='dashed',color='r')\n",
    "plt.xlabel('Score')\n",
    "plt.ylabel('Number of operatores')\n",
    "plt.text(3,150,'mean: {:.2f}'.format(oparetore_score['score'].mean()),color='r')\n",
    "plt.show()\n"
   ]
  },
  {
   "cell_type": "markdown",
   "metadata": {},
   "source": [
    "<span style=\"background-color:Lavender\">After applying the function to our list of operatores we can see that the mean score is 0.47.\n",
    "I think we can say that an operator with a score of under 0 is ineffective, this number can change according to the needs."
   ]
  },
  {
   "cell_type": "code",
   "execution_count": 55,
   "metadata": {},
   "outputs": [
    {
     "name": "stdout",
     "output_type": "stream",
     "text": [
      "number of ineffective operators: 86\n",
      "That is 20.67%\n"
     ]
    }
   ],
   "source": [
    "print('number of ineffective operators: {}'.format(len(oparetore_score[oparetore_score['score']<0])))\n",
    "print('That is {:.2%}'.format(len(oparetore_score[oparetore_score['score']<0])/len(operator_200_calls)))"
   ]
  },
  {
   "cell_type": "markdown",
   "metadata": {},
   "source": [
    "<span style=\"background-color:Lavender\">We identified 86 ineffective operators (20.67% of all operators that had at least 200 calls)"
   ]
  },
  {
   "cell_type": "code",
   "execution_count": 56,
   "metadata": {},
   "outputs": [
    {
     "data": {
      "text/html": [
       "<div>\n",
       "<style scoped>\n",
       "    .dataframe tbody tr th:only-of-type {\n",
       "        vertical-align: middle;\n",
       "    }\n",
       "\n",
       "    .dataframe tbody tr th {\n",
       "        vertical-align: top;\n",
       "    }\n",
       "\n",
       "    .dataframe thead th {\n",
       "        text-align: right;\n",
       "    }\n",
       "</style>\n",
       "<table border=\"1\" class=\"dataframe\">\n",
       "  <thead>\n",
       "    <tr style=\"text-align: right;\">\n",
       "      <th></th>\n",
       "      <th>operator_id</th>\n",
       "      <th>first_date</th>\n",
       "      <th>last_date</th>\n",
       "      <th>calls_sum</th>\n",
       "      <th>calls_out_daily_avg</th>\n",
       "      <th>calls_incoming_daily_avg</th>\n",
       "      <th>%_answered_calls</th>\n",
       "      <th>%_incoming_long_wait</th>\n",
       "      <th>avg_waiting_time</th>\n",
       "      <th>score_%_answered</th>\n",
       "      <th>score_waiting_time</th>\n",
       "      <th>score_%_long_wait</th>\n",
       "      <th>score_avg_wait</th>\n",
       "      <th>score_out_going</th>\n",
       "      <th>score</th>\n",
       "    </tr>\n",
       "  </thead>\n",
       "  <tbody>\n",
       "    <tr>\n",
       "      <th>321</th>\n",
       "      <td>944216.0</td>\n",
       "      <td>2019-10-24</td>\n",
       "      <td>2019-11-28</td>\n",
       "      <td>367</td>\n",
       "      <td>4.750000</td>\n",
       "      <td>6.5</td>\n",
       "      <td>0.897436</td>\n",
       "      <td>0.97619</td>\n",
       "      <td>201.629</td>\n",
       "      <td>-1</td>\n",
       "      <td>-1</td>\n",
       "      <td>-1</td>\n",
       "      <td>-1</td>\n",
       "      <td>-1</td>\n",
       "      <td>-5</td>\n",
       "    </tr>\n",
       "    <tr>\n",
       "      <th>322</th>\n",
       "      <td>944218.0</td>\n",
       "      <td>2019-10-23</td>\n",
       "      <td>2019-11-28</td>\n",
       "      <td>409</td>\n",
       "      <td>5.857143</td>\n",
       "      <td>6.62162</td>\n",
       "      <td>0.938776</td>\n",
       "      <td>0.952174</td>\n",
       "      <td>223.378</td>\n",
       "      <td>-1</td>\n",
       "      <td>-1</td>\n",
       "      <td>-1</td>\n",
       "      <td>-1</td>\n",
       "      <td>-1</td>\n",
       "      <td>-5</td>\n",
       "    </tr>\n",
       "    <tr>\n",
       "      <th>323</th>\n",
       "      <td>944220.0</td>\n",
       "      <td>2019-10-23</td>\n",
       "      <td>2019-11-28</td>\n",
       "      <td>484</td>\n",
       "      <td>6.314286</td>\n",
       "      <td>7.10811</td>\n",
       "      <td>0.931559</td>\n",
       "      <td>0.991837</td>\n",
       "      <td>233.243</td>\n",
       "      <td>-1</td>\n",
       "      <td>-1</td>\n",
       "      <td>-1</td>\n",
       "      <td>-1</td>\n",
       "      <td>-1</td>\n",
       "      <td>-5</td>\n",
       "    </tr>\n",
       "    <tr>\n",
       "      <th>324</th>\n",
       "      <td>944222.0</td>\n",
       "      <td>2019-10-24</td>\n",
       "      <td>2019-11-28</td>\n",
       "      <td>528</td>\n",
       "      <td>11.466667</td>\n",
       "      <td>5.57576</td>\n",
       "      <td>0.907609</td>\n",
       "      <td>0.934132</td>\n",
       "      <td>169.303</td>\n",
       "      <td>-1</td>\n",
       "      <td>-1</td>\n",
       "      <td>-1</td>\n",
       "      <td>-1</td>\n",
       "      <td>-1</td>\n",
       "      <td>-5</td>\n",
       "    </tr>\n",
       "    <tr>\n",
       "      <th>325</th>\n",
       "      <td>944226.0</td>\n",
       "      <td>2019-10-23</td>\n",
       "      <td>2019-11-28</td>\n",
       "      <td>289</td>\n",
       "      <td>4.360000</td>\n",
       "      <td>5</td>\n",
       "      <td>0.833333</td>\n",
       "      <td>0.913333</td>\n",
       "      <td>171.889</td>\n",
       "      <td>-1</td>\n",
       "      <td>-1</td>\n",
       "      <td>-1</td>\n",
       "      <td>-1</td>\n",
       "      <td>-1</td>\n",
       "      <td>-5</td>\n",
       "    </tr>\n",
       "    <tr>\n",
       "      <th>380</th>\n",
       "      <td>951508.0</td>\n",
       "      <td>2019-11-01</td>\n",
       "      <td>2019-11-28</td>\n",
       "      <td>482</td>\n",
       "      <td>7.684211</td>\n",
       "      <td>17.6842</td>\n",
       "      <td>0.9375</td>\n",
       "      <td>0.977778</td>\n",
       "      <td>259.087</td>\n",
       "      <td>-1</td>\n",
       "      <td>-1</td>\n",
       "      <td>-1</td>\n",
       "      <td>-1</td>\n",
       "      <td>-1</td>\n",
       "      <td>-5</td>\n",
       "    </tr>\n",
       "  </tbody>\n",
       "</table>\n",
       "</div>"
      ],
      "text/plain": [
       "     operator_id  first_date   last_date calls_sum  calls_out_daily_avg  \\\n",
       "321     944216.0  2019-10-24  2019-11-28       367             4.750000   \n",
       "322     944218.0  2019-10-23  2019-11-28       409             5.857143   \n",
       "323     944220.0  2019-10-23  2019-11-28       484             6.314286   \n",
       "324     944222.0  2019-10-24  2019-11-28       528            11.466667   \n",
       "325     944226.0  2019-10-23  2019-11-28       289             4.360000   \n",
       "380     951508.0  2019-11-01  2019-11-28       482             7.684211   \n",
       "\n",
       "    calls_incoming_daily_avg %_answered_calls %_incoming_long_wait  \\\n",
       "321                      6.5         0.897436              0.97619   \n",
       "322                  6.62162         0.938776             0.952174   \n",
       "323                  7.10811         0.931559             0.991837   \n",
       "324                  5.57576         0.907609             0.934132   \n",
       "325                        5         0.833333             0.913333   \n",
       "380                  17.6842           0.9375             0.977778   \n",
       "\n",
       "    avg_waiting_time score_%_answered score_waiting_time score_%_long_wait  \\\n",
       "321          201.629               -1                 -1                -1   \n",
       "322          223.378               -1                 -1                -1   \n",
       "323          233.243               -1                 -1                -1   \n",
       "324          169.303               -1                 -1                -1   \n",
       "325          171.889               -1                 -1                -1   \n",
       "380          259.087               -1                 -1                -1   \n",
       "\n",
       "    score_avg_wait score_out_going score  \n",
       "321             -1              -1    -5  \n",
       "322             -1              -1    -5  \n",
       "323             -1              -1    -5  \n",
       "324             -1              -1    -5  \n",
       "325             -1              -1    -5  \n",
       "380             -1              -1    -5  "
      ]
     },
     "execution_count": 56,
     "metadata": {},
     "output_type": "execute_result"
    }
   ],
   "source": [
    "oparetore_score[oparetore_score['score']==-5] # worst scoring operators"
   ]
  },
  {
   "cell_type": "code",
   "execution_count": 57,
   "metadata": {},
   "outputs": [
    {
     "data": {
      "text/html": [
       "<div>\n",
       "<style scoped>\n",
       "    .dataframe tbody tr th:only-of-type {\n",
       "        vertical-align: middle;\n",
       "    }\n",
       "\n",
       "    .dataframe tbody tr th {\n",
       "        vertical-align: top;\n",
       "    }\n",
       "\n",
       "    .dataframe thead th {\n",
       "        text-align: right;\n",
       "    }\n",
       "</style>\n",
       "<table border=\"1\" class=\"dataframe\">\n",
       "  <thead>\n",
       "    <tr style=\"text-align: right;\">\n",
       "      <th></th>\n",
       "      <th>operator_id</th>\n",
       "      <th>first_date</th>\n",
       "      <th>last_date</th>\n",
       "      <th>calls_sum</th>\n",
       "      <th>calls_out_daily_avg</th>\n",
       "      <th>calls_incoming_daily_avg</th>\n",
       "      <th>%_answered_calls</th>\n",
       "      <th>%_incoming_long_wait</th>\n",
       "      <th>avg_waiting_time</th>\n",
       "      <th>score_%_answered</th>\n",
       "      <th>score_waiting_time</th>\n",
       "      <th>score_%_long_wait</th>\n",
       "      <th>score_avg_wait</th>\n",
       "      <th>score_out_going</th>\n",
       "      <th>score</th>\n",
       "    </tr>\n",
       "  </thead>\n",
       "  <tbody>\n",
       "    <tr>\n",
       "      <th>307</th>\n",
       "      <td>940596.0</td>\n",
       "      <td>2019-10-22</td>\n",
       "      <td>2019-11-26</td>\n",
       "      <td>407</td>\n",
       "      <td>81.2</td>\n",
       "      <td>1</td>\n",
       "      <td>1</td>\n",
       "      <td>0</td>\n",
       "      <td>4</td>\n",
       "      <td>1</td>\n",
       "      <td>1</td>\n",
       "      <td>0</td>\n",
       "      <td>1</td>\n",
       "      <td>1</td>\n",
       "      <td>4</td>\n",
       "    </tr>\n",
       "    <tr>\n",
       "      <th>319</th>\n",
       "      <td>941390.0</td>\n",
       "      <td>2019-10-21</td>\n",
       "      <td>2019-10-25</td>\n",
       "      <td>370</td>\n",
       "      <td>123.0</td>\n",
       "      <td>1</td>\n",
       "      <td>1</td>\n",
       "      <td>0</td>\n",
       "      <td>5</td>\n",
       "      <td>1</td>\n",
       "      <td>1</td>\n",
       "      <td>0</td>\n",
       "      <td>1</td>\n",
       "      <td>1</td>\n",
       "      <td>4</td>\n",
       "    </tr>\n",
       "  </tbody>\n",
       "</table>\n",
       "</div>"
      ],
      "text/plain": [
       "     operator_id  first_date   last_date calls_sum  calls_out_daily_avg  \\\n",
       "307     940596.0  2019-10-22  2019-11-26       407                 81.2   \n",
       "319     941390.0  2019-10-21  2019-10-25       370                123.0   \n",
       "\n",
       "    calls_incoming_daily_avg %_answered_calls %_incoming_long_wait  \\\n",
       "307                        1                1                    0   \n",
       "319                        1                1                    0   \n",
       "\n",
       "    avg_waiting_time score_%_answered score_waiting_time score_%_long_wait  \\\n",
       "307                4                1                  1                 0   \n",
       "319                5                1                  1                 0   \n",
       "\n",
       "    score_avg_wait score_out_going score  \n",
       "307              1               1     4  \n",
       "319              1               1     4  "
      ]
     },
     "execution_count": 57,
     "metadata": {},
     "output_type": "execute_result"
    }
   ],
   "source": [
    "oparetore_score[oparetore_score['score']==4] # best scoring operators"
   ]
  },
  {
   "cell_type": "markdown",
   "metadata": {},
   "source": [
    "## 6. Testing the hypothesis\n",
    "<a class=\"anchor\" id=\"chapter6\"></a>"
   ]
  },
  {
   "cell_type": "markdown",
   "metadata": {},
   "source": [
    "<span style=\"background-color:Lavender\">For the hypothesis i'll check weather the length of time working changes the efficiency score.\n",
    "\n",
    "<span style=\"background-color:Lavender\">I'll take (from the 416 oparetors that have more them 200 calls) the 150 that work the longest time vs. the 150 with the shortest time and see if their grade is different."
   ]
  },
  {
   "cell_type": "code",
   "execution_count": 58,
   "metadata": {},
   "outputs": [
    {
     "name": "stdout",
     "output_type": "stream",
     "text": [
      "Long\n",
      "         operator_id  calls_out_daily_avg                work_time\n",
      "count     150.000000           150.000000                      150\n",
      "mean   904393.106667            27.414314         78 days 20:09:36\n",
      "std     12762.734492            77.665601  16 days 16:32:49.114883\n",
      "min    879896.000000             0.000000         52 days 00:00:00\n",
      "25%    891998.000000             5.306459         63 days 00:00:00\n",
      "50%    905553.000000            12.852381         78 days 00:00:00\n",
      "75%    914191.500000            27.706863         90 days 00:00:00\n",
      "max    929424.000000           737.212500        118 days 00:00:00 \n",
      "\n",
      "Short\n",
      "         operator_id  calls_out_daily_avg               work_time\n",
      "count     150.000000           150.000000                     150\n",
      "mean   934925.720000            79.110078        19 days 03:50:24\n",
      "std     19105.497031            80.343687  6 days 21:50:11.122812\n",
      "min    896382.000000             0.000000         3 days 00:00:00\n",
      "25%    919370.500000            29.375000        16 days 06:00:00\n",
      "50%    938046.000000            66.289683        20 days 00:00:00\n",
      "75%    950418.500000           118.535714        23 days 18:00:00\n",
      "max    969272.000000           816.791667        31 days 00:00:00 \n",
      "\n",
      "Long time workers avg score: 0.42\n",
      "short time workers avg score: 0.61\n"
     ]
    }
   ],
   "source": [
    "# changing the columns to date time\n",
    "oparetore_score['first_date']= pd.to_datetime(oparetore_score['first_date'])\n",
    "oparetore_score['last_date']= pd.to_datetime(oparetore_score['last_date'])\n",
    "oparetore_score['work_time'] = oparetore_score['last_date'] - oparetore_score['first_date']\n",
    "oparetore_score = oparetore_score.sort_values(by='work_time',ascending=False)\n",
    "long_workers = oparetore_score.head(150) # 150 first rows longest time workin\n",
    "short_workers = oparetore_score.tail(150) # 150 last rows\n",
    "print('Long')\n",
    "print(long_workers.describe(),'\\n')\n",
    "print('Short')\n",
    "print(short_workers.describe(),'\\n')\n",
    "\n",
    "print('Long time workers avg score: {:.2f}'.format(long_workers['score'].mean()))\n",
    "print('short time workers avg score: {:.2f}'.format(short_workers['score'].mean()))"
   ]
  },
  {
   "cell_type": "markdown",
   "metadata": {},
   "source": [
    "We have two groups of 150 operators each all with more then 200 calls.\n",
    "- Group_A: 52-118 days working\n",
    "- Group_B: 3-31 days working\n",
    "\n",
    "Our **H0**: the mean score for the groups is the same.\n",
    "\n",
    "the **H1**: the mean score for the groups is different."
   ]
  },
  {
   "cell_type": "code",
   "execution_count": 59,
   "metadata": {},
   "outputs": [
    {
     "name": "stdout",
     "output_type": "stream",
     "text": [
      "p-value:  0.3019855109836871\n",
      "We can't reject the null hypothesis\n"
     ]
    }
   ],
   "source": [
    "# apply the Leven's test to check variance equality\n",
    "\n",
    "alpha = .05 # we have enough samples for critical statistical significance level\n",
    "\n",
    "results = st.ttest_ind(\n",
    "    long_workers['score'],\n",
    "    short_workers['score'],equal_var = False)\n",
    "\n",
    "print('p-value: ', results.pvalue)\n",
    "\n",
    "if results.pvalue < alpha:\n",
    "    print(\"We reject the null hypothesis\")\n",
    "else:\n",
    "    print(\"We can't reject the null hypothesis\") \n"
   ]
  },
  {
   "cell_type": "markdown",
   "metadata": {},
   "source": [
    "<span style=\"background-color:Lavender\">We cant reject the Null hypothesis that the avg score is the same. \n",
    "\n",
    "<span style=\"background-color:Lavender\">we cant say thaqt Newer operators on average score different then an exrerienced operators, there is not a significant difference.\n",
    "\n",
    "<span style=\"background-color:Lavender\">This is actually good for us because this makes our efficiency score more reliable."
   ]
  },
  {
   "cell_type": "markdown",
   "metadata": {},
   "source": [
    "## 7. Conclution\n",
    "<a class=\"anchor\" id=\"chapter7\"></a>"
   ]
  },
  {
   "cell_type": "markdown",
   "metadata": {},
   "source": [
    "We looked at operators and their efficiency and saw that the number of calls and number of operators is in a quick rise but the ratio of answerred to unanswered calls stayed steady. the average number of daily calls per operators was setteling at around 35 calls per operator.\n",
    "\n",
    "We identified 5 main metrict that will give us the final efficiency score  and wrote a function to calculate the score of each operator, we ended up identifing 86 inefficient operastors that had a low score, this is 20.6% of all operators. \n",
    "\n",
    "In the last part we checked the hypothesis to see if the time an operator works changes their score. We saw that we cant conclude that the score of newer operators is different that ones that have been working for a longer time, this is great because it makes our efficiency test more reliability.\n",
    "\n",
    "The company had a cheotic start, a quickly rising number of calls to take care of, a high number of calls for every operator in the first weeks with days that peaked at more then 3X the daily overall average. The data shows that things started to settle around 2 months in, October is when we see the daily averages starting to settle on their final figures.\n",
    "..\n",
    "Average number of daily calls per user is: 77.64\n",
    "\n",
    "Average number of calls an operator had in a day: 35.74\n",
    "\n",
    "Average number of **answerd** calls an operator has in a day: 22.76\n",
    "\n",
    "The median time for an unanswered call is around 60, this means that half the people hang up if after 60 seconds there is no answer\n",
    "\n",
    "For the different terrif plans, terrif A has by far the highest number of calls (3X) but also the longest calls and waiting time. this is the most active terrif but the smalest with around a 6th of the total number of users.\n",
    "\n",
    "All and all the company seems to grow in a healthy manner all metrics are stabling and the number of users still has an upward inertia and new users are still joining.\n"
   ]
  },
  {
   "cell_type": "markdown",
   "metadata": {},
   "source": [
    "## 8. Documentation\n",
    "<a class=\"anchor\" id=\"chapter8\"></a>"
   ]
  },
  {
   "cell_type": "markdown",
   "metadata": {},
   "source": [
    "\n",
    "Documantation\n",
    "1. working with timezones and time fixedoffset: https://www.kite.com/python/docs/pytz.FixedOffset \n",
    "2. Droping duplicates but keeping the one without null: https://stackoverflow.com/questions/56852581/how-to-drop-duplicates-but-keep-the-rows-if-a-particular-other-column-is-not-nul\n",
    "3. Stacks % sns barplot : https://www.python-graph-gallery.com/stacked-and-percent-stacked-barplot\n"
   ]
  }
 ],
 "metadata": {
  "kernelspec": {
   "display_name": "Python 3",
   "language": "python",
   "name": "python3"
  },
  "language_info": {
   "codemirror_mode": {
    "name": "ipython",
    "version": 3
   },
   "file_extension": ".py",
   "mimetype": "text/x-python",
   "name": "python",
   "nbconvert_exporter": "python",
   "pygments_lexer": "ipython3",
   "version": "3.8.3"
  },
  "toc": {
   "base_numbering": 1,
   "nav_menu": {},
   "number_sections": true,
   "sideBar": true,
   "skip_h1_title": true,
   "title_cell": "Table of Contents",
   "title_sidebar": "Contents",
   "toc_cell": false,
   "toc_position": {},
   "toc_section_display": true,
   "toc_window_display": false
  }
 },
 "nbformat": 4,
 "nbformat_minor": 4
}
